{
 "cells": [
  {
   "cell_type": "code",
   "execution_count": 44,
   "metadata": {},
   "outputs": [],
   "source": [
    "import pandas as pd"
   ]
  },
  {
   "cell_type": "code",
   "execution_count": 45,
   "metadata": {},
   "outputs": [],
   "source": [
    "p_data_18 = pd.read_csv(\"pl_17-18.csv\")\n",
    "fifa_data_18 = pd.read_csv(\"players_18.csv\")"
   ]
  },
  {
   "cell_type": "code",
   "execution_count": 46,
   "metadata": {},
   "outputs": [
    {
     "data": {
      "text/html": [
       "<div>\n",
       "<style scoped>\n",
       "    .dataframe tbody tr th:only-of-type {\n",
       "        vertical-align: middle;\n",
       "    }\n",
       "\n",
       "    .dataframe tbody tr th {\n",
       "        vertical-align: top;\n",
       "    }\n",
       "\n",
       "    .dataframe thead th {\n",
       "        text-align: right;\n",
       "    }\n",
       "</style>\n",
       "<table border=\"1\" class=\"dataframe\">\n",
       "  <thead>\n",
       "    <tr style=\"text-align: right;\">\n",
       "      <th></th>\n",
       "      <th>Unnamed: 0</th>\n",
       "      <th>Name</th>\n",
       "      <th>Position</th>\n",
       "      <th>Appearances</th>\n",
       "      <th>Clean sheets</th>\n",
       "      <th>Goals conceded</th>\n",
       "      <th>Tackles</th>\n",
       "      <th>Tackle success %</th>\n",
       "      <th>Last man tackles</th>\n",
       "      <th>Blocked shots</th>\n",
       "      <th>...</th>\n",
       "      <th>Shooting accuracy %</th>\n",
       "      <th>Big chances missed</th>\n",
       "      <th>Saves</th>\n",
       "      <th>Penalties saved</th>\n",
       "      <th>Punches</th>\n",
       "      <th>High Claims</th>\n",
       "      <th>Catches</th>\n",
       "      <th>Sweeper clearances</th>\n",
       "      <th>Throw outs</th>\n",
       "      <th>Goal Kicks</th>\n",
       "    </tr>\n",
       "  </thead>\n",
       "  <tbody>\n",
       "    <tr>\n",
       "      <th>0</th>\n",
       "      <td>0</td>\n",
       "      <td>Rolando Aarons</td>\n",
       "      <td>Midfielder</td>\n",
       "      <td>4</td>\n",
       "      <td>NaN</td>\n",
       "      <td>NaN</td>\n",
       "      <td>4.0</td>\n",
       "      <td>100%</td>\n",
       "      <td>NaN</td>\n",
       "      <td>0.0</td>\n",
       "      <td>...</td>\n",
       "      <td>50%</td>\n",
       "      <td>0.0</td>\n",
       "      <td>NaN</td>\n",
       "      <td>NaN</td>\n",
       "      <td>NaN</td>\n",
       "      <td>NaN</td>\n",
       "      <td>NaN</td>\n",
       "      <td>NaN</td>\n",
       "      <td>NaN</td>\n",
       "      <td>NaN</td>\n",
       "    </tr>\n",
       "    <tr>\n",
       "      <th>1</th>\n",
       "      <td>1</td>\n",
       "      <td>Abdul Rahman Baba</td>\n",
       "      <td>Defender</td>\n",
       "      <td>0</td>\n",
       "      <td>0.0</td>\n",
       "      <td>0.0</td>\n",
       "      <td>0.0</td>\n",
       "      <td>0%</td>\n",
       "      <td>0.0</td>\n",
       "      <td>0.0</td>\n",
       "      <td>...</td>\n",
       "      <td>NaN</td>\n",
       "      <td>NaN</td>\n",
       "      <td>NaN</td>\n",
       "      <td>NaN</td>\n",
       "      <td>NaN</td>\n",
       "      <td>NaN</td>\n",
       "      <td>NaN</td>\n",
       "      <td>NaN</td>\n",
       "      <td>NaN</td>\n",
       "      <td>NaN</td>\n",
       "    </tr>\n",
       "    <tr>\n",
       "      <th>2</th>\n",
       "      <td>2</td>\n",
       "      <td>Tammy Abraham</td>\n",
       "      <td>Forward</td>\n",
       "      <td>31</td>\n",
       "      <td>NaN</td>\n",
       "      <td>NaN</td>\n",
       "      <td>10.0</td>\n",
       "      <td>NaN</td>\n",
       "      <td>NaN</td>\n",
       "      <td>11.0</td>\n",
       "      <td>...</td>\n",
       "      <td>36%</td>\n",
       "      <td>4.0</td>\n",
       "      <td>NaN</td>\n",
       "      <td>NaN</td>\n",
       "      <td>NaN</td>\n",
       "      <td>NaN</td>\n",
       "      <td>NaN</td>\n",
       "      <td>NaN</td>\n",
       "      <td>NaN</td>\n",
       "      <td>NaN</td>\n",
       "    </tr>\n",
       "    <tr>\n",
       "      <th>3</th>\n",
       "      <td>3</td>\n",
       "      <td>Charlie Adam</td>\n",
       "      <td>Midfielder</td>\n",
       "      <td>11</td>\n",
       "      <td>NaN</td>\n",
       "      <td>NaN</td>\n",
       "      <td>9.0</td>\n",
       "      <td>56%</td>\n",
       "      <td>NaN</td>\n",
       "      <td>3.0</td>\n",
       "      <td>...</td>\n",
       "      <td>30%</td>\n",
       "      <td>1.0</td>\n",
       "      <td>NaN</td>\n",
       "      <td>NaN</td>\n",
       "      <td>NaN</td>\n",
       "      <td>NaN</td>\n",
       "      <td>NaN</td>\n",
       "      <td>NaN</td>\n",
       "      <td>NaN</td>\n",
       "      <td>NaN</td>\n",
       "    </tr>\n",
       "    <tr>\n",
       "      <th>4</th>\n",
       "      <td>4</td>\n",
       "      <td>Adrián</td>\n",
       "      <td>Goalkeeper</td>\n",
       "      <td>19</td>\n",
       "      <td>6.0</td>\n",
       "      <td>29.0</td>\n",
       "      <td>NaN</td>\n",
       "      <td>NaN</td>\n",
       "      <td>NaN</td>\n",
       "      <td>NaN</td>\n",
       "      <td>...</td>\n",
       "      <td>NaN</td>\n",
       "      <td>NaN</td>\n",
       "      <td>69.0</td>\n",
       "      <td>0.0</td>\n",
       "      <td>6.0</td>\n",
       "      <td>9.0</td>\n",
       "      <td>2.0</td>\n",
       "      <td>15.0</td>\n",
       "      <td>47.0</td>\n",
       "      <td>184.0</td>\n",
       "    </tr>\n",
       "  </tbody>\n",
       "</table>\n",
       "<p>5 rows × 54 columns</p>\n",
       "</div>"
      ],
      "text/plain": [
       "   Unnamed: 0                Name    Position  Appearances  Clean sheets  \\\n",
       "0           0     Rolando Aarons   Midfielder            4           NaN   \n",
       "1           1  Abdul Rahman Baba     Defender            0           0.0   \n",
       "2           2      Tammy Abraham      Forward           31           NaN   \n",
       "3           3       Charlie Adam   Midfielder           11           NaN   \n",
       "4           4             Adrián   Goalkeeper           19           6.0   \n",
       "\n",
       "   Goals conceded  Tackles Tackle success %  Last man tackles  Blocked shots  \\\n",
       "0             NaN      4.0             100%               NaN            0.0   \n",
       "1             0.0      0.0               0%               0.0            0.0   \n",
       "2             NaN     10.0              NaN               NaN           11.0   \n",
       "3             NaN      9.0              56%               NaN            3.0   \n",
       "4            29.0      NaN              NaN               NaN            NaN   \n",
       "\n",
       "   ...  Shooting accuracy %  Big chances missed  Saves  Penalties saved  \\\n",
       "0  ...                  50%                 0.0    NaN              NaN   \n",
       "1  ...                  NaN                 NaN    NaN              NaN   \n",
       "2  ...                  36%                 4.0    NaN              NaN   \n",
       "3  ...                  30%                 1.0    NaN              NaN   \n",
       "4  ...                  NaN                 NaN   69.0              0.0   \n",
       "\n",
       "   Punches  High Claims  Catches  Sweeper clearances  Throw outs  Goal Kicks  \n",
       "0      NaN          NaN      NaN                 NaN         NaN         NaN  \n",
       "1      NaN          NaN      NaN                 NaN         NaN         NaN  \n",
       "2      NaN          NaN      NaN                 NaN         NaN         NaN  \n",
       "3      NaN          NaN      NaN                 NaN         NaN         NaN  \n",
       "4      6.0          9.0      2.0                15.0        47.0       184.0  \n",
       "\n",
       "[5 rows x 54 columns]"
      ]
     },
     "execution_count": 46,
     "metadata": {},
     "output_type": "execute_result"
    }
   ],
   "source": [
    "p_data_18.head()"
   ]
  },
  {
   "cell_type": "code",
   "execution_count": 47,
   "metadata": {},
   "outputs": [
    {
     "data": {
      "text/html": [
       "<div>\n",
       "<style scoped>\n",
       "    .dataframe tbody tr th:only-of-type {\n",
       "        vertical-align: middle;\n",
       "    }\n",
       "\n",
       "    .dataframe tbody tr th {\n",
       "        vertical-align: top;\n",
       "    }\n",
       "\n",
       "    .dataframe thead th {\n",
       "        text-align: right;\n",
       "    }\n",
       "</style>\n",
       "<table border=\"1\" class=\"dataframe\">\n",
       "  <thead>\n",
       "    <tr style=\"text-align: right;\">\n",
       "      <th></th>\n",
       "      <th>sofifa_id</th>\n",
       "      <th>player_url</th>\n",
       "      <th>short_name</th>\n",
       "      <th>long_name</th>\n",
       "      <th>age</th>\n",
       "      <th>dob</th>\n",
       "      <th>height_cm</th>\n",
       "      <th>weight_kg</th>\n",
       "      <th>nationality</th>\n",
       "      <th>club</th>\n",
       "      <th>...</th>\n",
       "      <th>lwb</th>\n",
       "      <th>ldm</th>\n",
       "      <th>cdm</th>\n",
       "      <th>rdm</th>\n",
       "      <th>rwb</th>\n",
       "      <th>lb</th>\n",
       "      <th>lcb</th>\n",
       "      <th>cb</th>\n",
       "      <th>rcb</th>\n",
       "      <th>rb</th>\n",
       "    </tr>\n",
       "  </thead>\n",
       "  <tbody>\n",
       "    <tr>\n",
       "      <th>0</th>\n",
       "      <td>20801</td>\n",
       "      <td>https://sofifa.com/player/20801/c-ronaldo-dos-...</td>\n",
       "      <td>Cristiano Ronaldo</td>\n",
       "      <td>Cristiano Ronaldo dos Santos Aveiro</td>\n",
       "      <td>32</td>\n",
       "      <td>1985-02-05</td>\n",
       "      <td>185</td>\n",
       "      <td>80</td>\n",
       "      <td>Portugal</td>\n",
       "      <td>Real Madrid</td>\n",
       "      <td>...</td>\n",
       "      <td>66+3</td>\n",
       "      <td>62+3</td>\n",
       "      <td>62+3</td>\n",
       "      <td>62+3</td>\n",
       "      <td>66+3</td>\n",
       "      <td>62+3</td>\n",
       "      <td>53+3</td>\n",
       "      <td>53+3</td>\n",
       "      <td>53+3</td>\n",
       "      <td>62+3</td>\n",
       "    </tr>\n",
       "    <tr>\n",
       "      <th>1</th>\n",
       "      <td>158023</td>\n",
       "      <td>https://sofifa.com/player/158023/lionel-messi/...</td>\n",
       "      <td>L. Messi</td>\n",
       "      <td>Lionel Andrés Messi Cuccittini</td>\n",
       "      <td>30</td>\n",
       "      <td>1987-06-24</td>\n",
       "      <td>170</td>\n",
       "      <td>72</td>\n",
       "      <td>Argentina</td>\n",
       "      <td>FC Barcelona</td>\n",
       "      <td>...</td>\n",
       "      <td>62+3</td>\n",
       "      <td>59+3</td>\n",
       "      <td>59+3</td>\n",
       "      <td>59+3</td>\n",
       "      <td>62+3</td>\n",
       "      <td>58+3</td>\n",
       "      <td>46+3</td>\n",
       "      <td>46+3</td>\n",
       "      <td>46+3</td>\n",
       "      <td>58+3</td>\n",
       "    </tr>\n",
       "    <tr>\n",
       "      <th>2</th>\n",
       "      <td>190871</td>\n",
       "      <td>https://sofifa.com/player/190871/neymar-da-sil...</td>\n",
       "      <td>Neymar</td>\n",
       "      <td>Neymar da Silva Santos Junior</td>\n",
       "      <td>25</td>\n",
       "      <td>1992-02-05</td>\n",
       "      <td>175</td>\n",
       "      <td>68</td>\n",
       "      <td>Brazil</td>\n",
       "      <td>Paris Saint-Germain</td>\n",
       "      <td>...</td>\n",
       "      <td>64+3</td>\n",
       "      <td>59+3</td>\n",
       "      <td>59+3</td>\n",
       "      <td>59+3</td>\n",
       "      <td>64+3</td>\n",
       "      <td>60+3</td>\n",
       "      <td>47+3</td>\n",
       "      <td>47+3</td>\n",
       "      <td>47+3</td>\n",
       "      <td>60+3</td>\n",
       "    </tr>\n",
       "    <tr>\n",
       "      <th>3</th>\n",
       "      <td>167495</td>\n",
       "      <td>https://sofifa.com/player/167495/manuel-neuer/...</td>\n",
       "      <td>M. Neuer</td>\n",
       "      <td>Manuel Neuer</td>\n",
       "      <td>31</td>\n",
       "      <td>1986-03-27</td>\n",
       "      <td>193</td>\n",
       "      <td>92</td>\n",
       "      <td>Germany</td>\n",
       "      <td>FC Bayern München</td>\n",
       "      <td>...</td>\n",
       "      <td>NaN</td>\n",
       "      <td>NaN</td>\n",
       "      <td>NaN</td>\n",
       "      <td>NaN</td>\n",
       "      <td>NaN</td>\n",
       "      <td>NaN</td>\n",
       "      <td>NaN</td>\n",
       "      <td>NaN</td>\n",
       "      <td>NaN</td>\n",
       "      <td>NaN</td>\n",
       "    </tr>\n",
       "    <tr>\n",
       "      <th>4</th>\n",
       "      <td>176580</td>\n",
       "      <td>https://sofifa.com/player/176580/luis-suarez/1...</td>\n",
       "      <td>L. Suárez</td>\n",
       "      <td>Luis Alberto Suárez Díaz</td>\n",
       "      <td>30</td>\n",
       "      <td>1987-01-24</td>\n",
       "      <td>182</td>\n",
       "      <td>86</td>\n",
       "      <td>Uruguay</td>\n",
       "      <td>FC Barcelona</td>\n",
       "      <td>...</td>\n",
       "      <td>68+4</td>\n",
       "      <td>66+4</td>\n",
       "      <td>66+4</td>\n",
       "      <td>66+4</td>\n",
       "      <td>68+4</td>\n",
       "      <td>65+4</td>\n",
       "      <td>59+4</td>\n",
       "      <td>59+4</td>\n",
       "      <td>59+4</td>\n",
       "      <td>65+4</td>\n",
       "    </tr>\n",
       "  </tbody>\n",
       "</table>\n",
       "<p>5 rows × 104 columns</p>\n",
       "</div>"
      ],
      "text/plain": [
       "   sofifa_id                                         player_url  \\\n",
       "0      20801  https://sofifa.com/player/20801/c-ronaldo-dos-...   \n",
       "1     158023  https://sofifa.com/player/158023/lionel-messi/...   \n",
       "2     190871  https://sofifa.com/player/190871/neymar-da-sil...   \n",
       "3     167495  https://sofifa.com/player/167495/manuel-neuer/...   \n",
       "4     176580  https://sofifa.com/player/176580/luis-suarez/1...   \n",
       "\n",
       "          short_name                            long_name  age         dob  \\\n",
       "0  Cristiano Ronaldo  Cristiano Ronaldo dos Santos Aveiro   32  1985-02-05   \n",
       "1           L. Messi       Lionel Andrés Messi Cuccittini   30  1987-06-24   \n",
       "2             Neymar        Neymar da Silva Santos Junior   25  1992-02-05   \n",
       "3           M. Neuer                         Manuel Neuer   31  1986-03-27   \n",
       "4          L. Suárez             Luis Alberto Suárez Díaz   30  1987-01-24   \n",
       "\n",
       "   height_cm  weight_kg nationality                 club  ...   lwb   ldm  \\\n",
       "0        185         80    Portugal          Real Madrid  ...  66+3  62+3   \n",
       "1        170         72   Argentina         FC Barcelona  ...  62+3  59+3   \n",
       "2        175         68      Brazil  Paris Saint-Germain  ...  64+3  59+3   \n",
       "3        193         92     Germany    FC Bayern München  ...   NaN   NaN   \n",
       "4        182         86     Uruguay         FC Barcelona  ...  68+4  66+4   \n",
       "\n",
       "    cdm   rdm   rwb    lb   lcb    cb   rcb    rb  \n",
       "0  62+3  62+3  66+3  62+3  53+3  53+3  53+3  62+3  \n",
       "1  59+3  59+3  62+3  58+3  46+3  46+3  46+3  58+3  \n",
       "2  59+3  59+3  64+3  60+3  47+3  47+3  47+3  60+3  \n",
       "3   NaN   NaN   NaN   NaN   NaN   NaN   NaN   NaN  \n",
       "4  66+4  66+4  68+4  65+4  59+4  59+4  59+4  65+4  \n",
       "\n",
       "[5 rows x 104 columns]"
      ]
     },
     "execution_count": 47,
     "metadata": {},
     "output_type": "execute_result"
    }
   ],
   "source": [
    "fifa_data_18.head()"
   ]
  },
  {
   "cell_type": "code",
   "execution_count": 48,
   "metadata": {},
   "outputs": [
    {
     "data": {
      "text/plain": [
       "Index(['sofifa_id', 'player_url', 'short_name', 'long_name', 'age', 'dob',\n",
       "       'height_cm', 'weight_kg', 'nationality', 'club',\n",
       "       ...\n",
       "       'lwb', 'ldm', 'cdm', 'rdm', 'rwb', 'lb', 'lcb', 'cb', 'rcb', 'rb'],\n",
       "      dtype='object', length=104)"
      ]
     },
     "execution_count": 48,
     "metadata": {},
     "output_type": "execute_result"
    }
   ],
   "source": [
    "fifa_data_18.columns"
   ]
  },
  {
   "cell_type": "code",
   "execution_count": 49,
   "metadata": {},
   "outputs": [
    {
     "data": {
      "text/plain": [
       "array(['Cristiano Ronaldo', 'L. Messi', 'Neymar', ..., 'J. Keeble',\n",
       "       'B. Richardson', 'T. Käßemodel'], dtype=object)"
      ]
     },
     "execution_count": 49,
     "metadata": {},
     "output_type": "execute_result"
    }
   ],
   "source": [
    "fifa_data_18[\"short_name\"].unique()"
   ]
  },
  {
   "cell_type": "code",
   "execution_count": 50,
   "metadata": {},
   "outputs": [],
   "source": [
    "fifa_data_18[\"mod name\"] = fifa_data_18[\"long_name\"].apply(lambda x: \" \".join([x.split(\" \")[0], x.split(\" \")[-1]]))"
   ]
  },
  {
   "cell_type": "code",
   "execution_count": 51,
   "metadata": {},
   "outputs": [
    {
     "data": {
      "text/plain": [
       "0         Cristiano Aveiro\n",
       "1        Lionel Cuccittini\n",
       "2            Neymar Junior\n",
       "3             Manuel Neuer\n",
       "4                Luis Díaz\n",
       "               ...        \n",
       "17587          Adam Kelsey\n",
       "17588         Jordan Young\n",
       "17589          Jack Keeble\n",
       "17590     Barry Richardson\n",
       "17591      Tommy Käßemodel\n",
       "Name: mod name, Length: 17592, dtype: object"
      ]
     },
     "execution_count": 51,
     "metadata": {},
     "output_type": "execute_result"
    }
   ],
   "source": [
    "fifa_data_18[\"mod name\"]"
   ]
  },
  {
   "cell_type": "code",
   "execution_count": 52,
   "metadata": {},
   "outputs": [
    {
     "data": {
      "text/plain": [
       "str"
      ]
     },
     "execution_count": 52,
     "metadata": {},
     "output_type": "execute_result"
    }
   ],
   "source": [
    "type(p_data_18[\"Name\"][0])"
   ]
  },
  {
   "cell_type": "code",
   "execution_count": 53,
   "metadata": {},
   "outputs": [
    {
     "data": {
      "text/plain": [
       "Index(['Unnamed: 0', 'Name', 'Position', 'Appearances', 'Clean sheets',\n",
       "       'Goals conceded', 'Tackles', 'Tackle success %', 'Last man tackles',\n",
       "       'Blocked shots', 'Interceptions', 'Clearances', 'Headed Clearance',\n",
       "       'Clearances off line', 'Recoveries', 'Duels won', 'Duels lost',\n",
       "       'Successful 50/50s', 'Aerial battles won', 'Aerial battles lost',\n",
       "       'Own goals', 'Errors leading to goal', 'Assists', 'Passes',\n",
       "       'Passes per match', 'Big chances created', 'Crosses',\n",
       "       'Cross accuracy %', 'Through balls', 'Accurate long balls',\n",
       "       'Yellow cards', 'Red cards', 'Fouls', 'Offsides', 'Goals',\n",
       "       'Headed goals', 'Goals with right foot', 'Goals with left foot',\n",
       "       'Hit woodwork', 'Goals per match', 'Penalties scored',\n",
       "       'Freekicks scored', 'Shots', 'Shots on target', 'Shooting accuracy %',\n",
       "       'Big chances missed', 'Saves', 'Penalties saved', 'Punches',\n",
       "       'High Claims', 'Catches', 'Sweeper clearances', 'Throw outs',\n",
       "       'Goal Kicks'],\n",
       "      dtype='object')"
      ]
     },
     "execution_count": 53,
     "metadata": {},
     "output_type": "execute_result"
    }
   ],
   "source": [
    "p_data_18.columns"
   ]
  },
  {
   "cell_type": "code",
   "execution_count": 54,
   "metadata": {},
   "outputs": [
    {
     "data": {
      "text/plain": [
       "array(['Rolando Aarons ', 'Abdul Rahman Baba ', 'Tammy Abraham ',\n",
       "       'Charlie Adam ', 'Adrián ', 'Adrien Silva ', 'Ibrahim Afellay ',\n",
       "       'Benik Afobe ', 'Sergio Agüero ', 'Daniel Agyei ',\n",
       "       'Soufyan Ahannach ', 'Ahmed Hegazi ', 'Nathan Aké ',\n",
       "       'Chuba Akpom ', 'Alberto Moreno ', 'Marc Albrighton ',\n",
       "       'Toby Alderweireld ', 'Aleix García ', 'Trent Alexander-Arnold ',\n",
       "       'Ali Gabr ', 'Allan ', 'Joe Allen ', 'Dele Alli ', 'Ryan Allsop ',\n",
       "       'Marcos Alonso ', 'Paulo Alves ', 'Daniel Amartey ', 'Luke Amos ',\n",
       "       'Ethan Ampadu ', 'Tom Anderson ', 'Andreas Pereira ',\n",
       "       'Angel Gomes ', 'Vurnon Anita ', 'Michail Antonio ',\n",
       "       'Scott Arfield ', 'Giedrius Arlauskis ', 'Adam Armstrong ',\n",
       "       'Marko Arnautovic ', 'Harry Arter ', 'Christian Atsu ',\n",
       "       'Pierre-Emerick Aubameyang ', 'Serge Aurier ', 'Charlie Austin ',\n",
       "       'Jordan Ayew ', 'César Azpilicueta ', 'Daniel Bachmann ',\n",
       "       'Badou Ndiaye ', 'Eric Bailly ', 'Leighton Baines ',\n",
       "       'Tiemoué Bakayoko ', 'Lewis Baker ', 'Courtney Baker-Richardson ',\n",
       "       'Sam Baldock ', 'Beni Baningime ', 'Lewis Banks ',\n",
       "       'Phil Bardsley ', 'Ross Barkley ', 'Daniel Barlaser ',\n",
       "       'Ashley Barnes ', 'Modou Barrow ', 'Gareth Barry ',\n",
       "       'Kyle Bartley ', 'Michy Batshuayi ', 'Moritz Bauer ',\n",
       "       'Jose Baxter ', 'Jan Bednarek ', 'Asmir Begovic ',\n",
       "       'Valon Behrami ', 'Héctor Bellerín ', 'Yasin Ben El-Mhanni ',\n",
       "       'Yohan Benalouane ', 'Christian Benteke ', 'Saido Berahino ',\n",
       "       'Steven Berghuis ', 'Bernardo Silva ', 'Ryan Bertrand ',\n",
       "       'Muhamed Besic ', 'Krystian Bielik ', 'Philip Billing ',\n",
       "       'Mark Birighitti ', 'Daley Blind ', 'Hiram Boateng ',\n",
       "       'Jeremie Boga ', 'Adam Bogdan ', 'Bojan ', 'Yannick Bolasie ',\n",
       "       'Gaëtan Bong ', 'Wilfried Bony ', 'Regan Booty ', 'Borja Bastón ',\n",
       "       'Cameron Borthwick-Jackson ', 'Artur Boruc ', 'Sofiane Boufal ',\n",
       "       'George Boyd ', 'Brad Smith ', 'Robbie Brady ', 'Cohen Bramall ',\n",
       "       'Brandon Cooper ', 'Cameron Brannagan ', 'Claudio Bravo ',\n",
       "       'Rhian Brewster ', 'Miguel Britos ', 'Leon Britton ',\n",
       "       'Nathan Broadhead ', 'Isaiah Brown ', 'Marcus Browne ', 'Bruno ',\n",
       "       'Chris Brunt ', 'Marcin Bulka ', 'Harry Bunn ', 'Oliver Burke ',\n",
       "       'Matt Butcher ', 'Jack Butland ', 'George Byers ', 'Sam Byram ',\n",
       "       'Willy Caballero ', 'Yohan Cabaye ', 'Tom Cadman ', 'Gary Cahill ',\n",
       "       'Dominic Calvert-Lewin ', 'Geoff Cameron ', 'Joel Campbell ',\n",
       "       'Emre Can ', 'Etienne Capoue ', 'Baily Cargill ',\n",
       "       'Michael Carrick ', 'Guido Carrillo ', 'Tom Carroll ',\n",
       "       'Cameron Carter-Vickers ', 'Craig Cathcart ', 'Petr Cech ',\n",
       "       'Cédric Soares ', 'Nacer Chadli ', 'Nathaniel Chalobah ',\n",
       "       'Calum Chambers ', 'Harry Charsley ', 'Chicharito ',\n",
       "       'Ben Chilwell ', 'Pedro Chirivella ', 'Hamza Choudhury ',\n",
       "       'Eric Maxim Choupo-Moting ', 'Chris Löwe ', 'Andreas Christensen ',\n",
       "       'Ciaran Clark ', 'Jake Clarke-Salter ', 'Jordy Clasie ',\n",
       "       'Tom Cleverley ', 'Sam Clucas ', 'Nathaniel Clyne ',\n",
       "       'Luke Coddington ', 'Jack Colback ', 'Séamus Coleman ',\n",
       "       'Michael Collins ', 'Aaron Connolly ', 'Francis Coquelin ',\n",
       "       'Jack Cork ', 'Thibaut Courtois ', 'Martin Cranie ',\n",
       "       'Aaron Cresswell ', 'Peter Crouch ', 'Cuco Martina ',\n",
       "       'Cristián Cuevas ', 'Josh Cullen ', 'Pontus Dahlberg ',\n",
       "       'James Daly ', 'Charlie Daniels ', 'Danilo ', 'Scott Dann ',\n",
       "       'Tendayi Darikwa ', 'Karl Darlow ', 'Matteo Darmian ',\n",
       "       'David Luiz ', 'Jason Davidson ', 'Tom Davies ', 'Steven Davis ',\n",
       "       'Craig Dawson ', 'Kevin De Bruyne ', 'David de Gea ',\n",
       "       'Siem de Jong ', 'Zachary Dearnley ', 'Mathieu Debuchy ',\n",
       "       'Troy Deeney ', 'Jermain Defoe ', 'Steven Defour ',\n",
       "       'Damien Delaney ', 'Fabian Delph ', 'Mousa Dembélé ',\n",
       "       'Jason Denayer ', 'Alex Denny ', 'Laurent Depoitre ',\n",
       "       'Gerard Deulofeu ', 'Fousseni Diabaté ', 'Mohamed Diamé ',\n",
       "       'Grady Diangana ', 'Brahim Díaz ', 'Diego Cavalieri ',\n",
       "       'Diego Costa ', 'Eric Dier ', 'Mame Biram Diouf ',\n",
       "       'Brice Dja Djédjé ', 'Domingos Quina ', 'Abdoulaye Doucouré ',\n",
       "       'Vlad Dragomir ', 'Aleksandar Dragovic ', 'Daniel Drinkwater ',\n",
       "       'Martin Dubravka ', 'Shane Duffy ', 'Demeaco Duhaney ',\n",
       "       'Stephen Duke-McKenna ', 'Paul Dummett ', 'Lewis Dunk ',\n",
       "       'Nathan Dyer ', 'Ederson ', 'Eduardo ', 'Thomas Edwards ',\n",
       "       'Ovie Ejaria ', 'Callum Elder ', 'Andrew Eleftheriou ',\n",
       "       'Robert Elliot ', 'Emerson ', 'Christian Eriksen ', 'Jonny Evans ',\n",
       "       'Patrice Evra ', 'Lukasz Fabianski ', 'Cesc Fàbregas ',\n",
       "       'Adam Federici ', 'Morgan Feeney ', 'Sofiane Feghouli ',\n",
       "       'Marouane Fellaini ', 'Leroy Fer ', 'Nathan Ferguson ',\n",
       "       'Edimilson Fernandes ', 'Federico Fernández ', 'Fernandinho ',\n",
       "       'Fernando ', 'Sam Field ', 'Stuart Findlay ', 'Jon Flanagan ',\n",
       "       'Darren Fletcher ', 'Phil Foden ', 'Michael Folivi ',\n",
       "       'Fraser Forster ', 'Ben Foster ', 'Timothy Fosu-Mensah ',\n",
       "       'Dimitri Foulquier ', 'Juan Foyth ', 'Simon Francis ',\n",
       "       'Ryan Fraser ', 'Freddie Ladapo ', 'Christian Fuchs ',\n",
       "       'Jay Fulton ', 'Ramiro Funes Mori ', 'Manolo Gabbiadini ',\n",
       "       'Gabriel Jesus ', 'Gabriel Paulista ', 'Sam Gallagher ',\n",
       "       'Luke Garbutt ', 'Florin Gardos ', 'Dwight Gayle ',\n",
       "       'Paulo Gazzaniga ', 'Anthony Georgiou ', 'Kieran Gibbs ',\n",
       "       'Charlie Gilmour ', 'Olivier Giroud ', 'Connor Goldson ',\n",
       "       'Joseph Gomez ', 'Curtis Good ', 'Anthony Gordon ', 'Dan Gosling ',\n",
       "       'Yoan Gouffran ', 'Kamil Grabara ', 'Lewis Grabban ',\n",
       "       'Max-Alain Gradel ', 'Lee Grant ', 'Demarai Gray ',\n",
       "       'Robert Green ', 'Matt Grimes ', 'Daniel Grimshaw ',\n",
       "       'Pascal Groß ', 'Marko Grujic ', 'Jóhann Gudmundsson ',\n",
       "       'Idrissa Gueye ', 'Ilkay Gündogan ', 'Daniel Gyollai ',\n",
       "       'Florent Hadergjonaj ', 'Sead Haksabanovic ', 'Ben Hamer ',\n",
       "       'Ethan Hamilton ', 'Grant Hanley ', 'Ollie Harfield ',\n",
       "       'Rekeem Harper ', 'Joe Hart ', 'Jakob Haugaard ', 'Isaac Hayden ',\n",
       "       'Eden Hazard ', 'Tom Heaton ', 'Michael Hefele ', 'Tomer Hemed ',\n",
       "       'Jordan Henderson ', 'Jeff Hendrick ', 'Wayne Hennessey ',\n",
       "       'Henrik Bjørdal ', 'Dion Henry ', 'Ander Herrera ',\n",
       "       'Jake Hesketh ', 'Heurelho Gomes ', 'Mateusz Hewelt ',\n",
       "       'Ryan Hill ', 'Jordy Hiwula-Mayifuila ', 'Tommie Hoban ',\n",
       "       'Shaun Hobson ', 'Wesley Hoedt ', 'Jonathan Hogg ', 'Rob Holding ',\n",
       "       'José Holebas ', 'Mason Holgate ', 'Nathan Holland ',\n",
       "       'Jordan Holmes ', 'Tareiq Holmes-Dennis ', 'Fraser Hornby ',\n",
       "       'Mark Hudson ', 'Callum Hudson-Odoi ', 'Sam Hughes ',\n",
       "       'Jordan Hugill ', 'Uwe Hünemeier ', 'Des Hutchinson ',\n",
       "       'Robert Huth ', 'Emerson Hyndman ', 'Pierre-Emile Højbjerg ',\n",
       "       'Jordon Ibe ', 'Vicente Iborra ', 'Zlatan Ibrahimovic ',\n",
       "       'Kelechi Iheanacho ', 'Dejan Iliev ', 'Giannelli Imbula ',\n",
       "       'Rohan Ince ', 'Danny Ings ', 'Ryan Inniss ', 'Stephen Ireland ',\n",
       "       'Isaac Success ', 'Alex Iwobi ', 'José Izquierdo ',\n",
       "       'Jaroslaw Jach ', 'Brad Jackson ', 'Phil Jagielka ',\n",
       "       'Eldin Jakupovic ', 'Matty James ', 'Kyle Jameson ',\n",
       "       'Daryl Janmaat ', 'Vincent Janssen ', 'Adnan Januzaj ',\n",
       "       'Carl Jenkinson ', 'Jesé ', 'Jesús Gámez ', 'João Mário ',\n",
       "       'Joel Pereira ', 'Darnell Johnson ', 'Sam Johnstone ',\n",
       "       'Jonathan Dinzeyi ', 'Jonathan Williams ', 'Curtis Jones ',\n",
       "       'Jordan Williams ', 'Jordi Amat ', 'José Fonte ', 'Joselu ',\n",
       "       'Josh Dasilva ', 'Christian Kabasele ', 'Younes Kaboul ',\n",
       "       'Elias Kachunga ', 'Sullay Kaikai ', 'Tomas Kalas ', 'Harry Kane ',\n",
       "       \"N'Golo Kanté \", 'Bartosz Kapustka ', 'Loris Karius ',\n",
       "       'Orestis Karnezis ', 'Beram Kayal ', 'Olarenwaju Kayode ',\n",
       "       'Michael Keane ', 'Martin Kelly ', 'Daniel Kemp ', 'Kenedy ',\n",
       "       'Jonjoe Kenny ', 'Ryan Kent ', 'Ki Sung-Yueng ', 'Kiko Femenía ',\n",
       "       'Joshua King ', 'Stephen Kingsley ', 'Nya Kirby ',\n",
       "       'Davy Klaassen ', 'Ragnar Klavan ', 'Josh Knight ',\n",
       "       'Anthony Knockaert ', 'Aleksandar Kolarov ', 'Sead Kolasinac ',\n",
       "       'Vincent Kompany ', 'Terence Kongolo ', 'Laurent Koscielny ',\n",
       "       'Cheikhou Kouyaté ', 'Tim Krul ', 'Grzegorz Krychowiak ',\n",
       "       'Alexandre Lacazette ', 'Adam Lallana ', 'Erik Lamela ',\n",
       "       'Manuel Lanzini ', 'Aymeric Laporte ', 'Jamaal Lascelles ',\n",
       "       'Joel Latibeaudiere ', 'Shayne Lavery ', 'Tom Lawrence ',\n",
       "       'Achraf Lazaar ', 'Lee Chung-Yong ', 'Adam Legzdins ',\n",
       "       'Florian Lejeune ', 'Jonathan Leko ', 'Mario Lemina ',\n",
       "       'Aaron Lennon ', 'Filip Lesniak ', 'Harry Lewis ', 'Lewis Cook ',\n",
       "       'Anders Lindegaard ', 'Victor Lindelöf ', 'Jesse Lingard ',\n",
       "       'Jake Livermore ', 'Fernando Llorente ', 'Hugo Lloris ',\n",
       "       'Jürgen Locadia ', 'Ruben Loftus-Cheek ', 'Jason Lokilo ',\n",
       "       'Joe Lolley ', 'Kevin Long ', 'Ademola Lookman ', 'Jonas Lössl ',\n",
       "       'Dejan Lovren ', 'Matthew Lowton ', 'Kazenga LuaLua ',\n",
       "       'Lucas Leiva ', 'Lucas Moura ', 'Romelu Lukaku ',\n",
       "       'Dodi Lukébakio ', 'Levi Lumeka ', 'Matt Macey ', 'Niki Mäenpää ',\n",
       "       'Pablo Maffeo ', 'Harry Maguire ', 'Connor Mahoney ',\n",
       "       'Riyad Mahrez ', 'Ainsley Maitland-Niles ', 'Moses Makasi ',\n",
       "       'Donyell Malen ', 'Scott Malone ', 'Steve Mandanda ',\n",
       "       'Sadio Mané ', 'Eliaquim Mangala ', 'Javier Manquillo ',\n",
       "       'Elvis Manu ', 'Solly March ', 'Adrian Mariappa ', 'Adnan Maric ',\n",
       "       'Lazar Markovic ', 'Dean Marney ', 'Anthony Martial ',\n",
       "       'Emiliano Martínez ', 'Bruno Martins Indi ', 'Brandon Mason ',\n",
       "       'Massadio Haidara ', 'Ntumba Massanka ', 'Conor Masterson ',\n",
       "       'Arthur Masuaku ', 'Juan Mata ', 'Ales Mateju ', 'Nemanja Matic ',\n",
       "       'Joel Matip ', 'Konstantinos Mavropanos ', 'Alfie Mawson ',\n",
       "       'Chancel Mbemba ', 'James McArthur ', 'Gareth McAuley ',\n",
       "       'Oliver McBurnie ', 'James McCarthy ', 'James McClean ',\n",
       "       'Marcus McGuane ', 'Callum McManaman ', 'Dwight McNeil ',\n",
       "       'Sam McQueen ', 'Scott McTominay ', 'Ben Mee ', 'Max Melbourne ',\n",
       "       'Nampalys Mendy ', 'Mikel Merino ', 'Per Mertesacker ',\n",
       "       'Roque Mesa ', 'Matt Miazga ', 'Simon Mignolet ',\n",
       "       'Luka Milivojevic ', 'James Milner ', 'Tyrone Mings ',\n",
       "       'Kevin Mirallas ', 'Demetri Mitchell ', 'Aleksandar Mitrovic ',\n",
       "       'MJ Williams ', 'Henrikh Mkhitaryan ', 'Moha ', 'Mohamed Elneny ',\n",
       "       'Mohamed Salah ', 'Jayson Molumby ', 'Jefferson Montero ',\n",
       "       'Elliott Moore ', 'Aaron Mooy ', 'Álvaro Morata ',\n",
       "       'Marlos Moreno ', 'Wes Morgan ', 'James Morrison ',\n",
       "       'Victor Moses ', 'Steve Mounie ', 'Lys Mousset ', 'Joy Mukena ',\n",
       "       'Erwin Mulder ', 'Marc Muniesa ', 'Arijanet Muric ',\n",
       "       'Jamie Murphy ', 'Glenn Murray ', 'Ahmed Musa ', 'Charly Musonda ',\n",
       "       'Shkodran Mustafi ', 'Jordon Mutch ', 'Boaz Myhill ',\n",
       "       \"Clinton N'Jie \", 'Nacho Monreal ', 'Luciano Narsingh ',\n",
       "       'Samir Nasri ', 'Kyle Naughton ', 'Mikael Ndjoli ',\n",
       "       'Didier Ndong ', 'Layton Ndukwu ', 'Reiss Nelson ',\n",
       "       'Vashon Neufville ', 'Julien Ngoy ', 'Oumar Niasse ',\n",
       "       'Eddie Nketiah ', 'Georges-Kévin Nkoudou ', 'Lukas Nmecha ',\n",
       "       'Mark Noble ', 'Nolito ', 'Kristoffer Nordfeldt ',\n",
       "       'Nordin Amrabat ', 'Mathias Normann ', 'Oliver Norwood ',\n",
       "       'Allan-Roméo Nyom ', \"Lewis O'Brien \", \"Keelan O'Connell \",\n",
       "       \"Stefan O'Connor \", \"Kieran O'Hara \", \"Aiden O'Neill \",\n",
       "       \"Dara O'Shea \", 'Tashan Oakley-Boothe ', 'Michael Obafemi ',\n",
       "       'Pedro Obiang ', 'Angelo Ogbonna ', 'Sheyi Ojo ', 'Stefano Okaka ',\n",
       "       'Shinji Okazaki ', 'Ola Aina ', 'Olufela Olomola ',\n",
       "       'Martin Olsson ', 'Josh Onomah ', 'Henry Onyekuru ',\n",
       "       'Divock Origi ', 'Jordi Osei-Tutu ', 'David Ospina ',\n",
       "       'Nicolás Otamendi ', 'Reece Oxford ', 'Alex Oxlade-Chamberlain ',\n",
       "       'Mesut Özil ', 'Kasey Palmer ', 'Erik Palmer-Brown ',\n",
       "       'Costel Pantilimon ', 'Juan Carlos Paredes ', 'Mario Pasalic ',\n",
       "       'Josh Pask ', 'Jack Payne ', 'Pedro ', 'Adalberto Peñaranda ',\n",
       "       'Matthew Pennington ', 'Dion Pereira ', 'Roberto Pereyra ',\n",
       "       'Lucas Pérez ', 'Kleton Perntreou ', 'Philippe Coutinho ',\n",
       "       'Michael Phillips ', 'Jordan Pickford ', 'Jérémy Pied ',\n",
       "       'Erik Pieters ', 'Paul Pogba ', 'Nick Pope ', 'Alex Pritchard ',\n",
       "       'Sebastian Prödl ', 'Davy Pröpper ', 'Marc Pugh ',\n",
       "       'Jason Puncheon ', 'Collin Quaner ', 'Rafael Camacho ',\n",
       "       'Erdal Rakip ', 'Ramadan Sobhi ', 'Sandro Ramírez ',\n",
       "       'Aaron Ramsdale ', 'Aaron Ramsey ', 'Connor Randall ',\n",
       "       'Darren Randolph ', 'Angel Rangel ', 'Marcus Rashford ',\n",
       "       'Nathan Redmond ', 'Harrison Reed ', 'Winston Reid ',\n",
       "       'Jeff Reine-Adélaïde ', 'Loïc Rémy ', 'Renato Sanches ',\n",
       "       'Declan Rice ', 'Richarlison ', 'Jairo Riedewald ',\n",
       "       'Matt Ritchie ', 'Emmanuel Rivière ', 'Rob Hunt ',\n",
       "       'Roberto Firmino ', 'Patrick Roberts ', 'Andrew Robertson ',\n",
       "       'Joel Robles ', 'Hal Robson-Kanu ', 'Joe Rodon ', 'Jay Rodriguez ',\n",
       "       'Marcos Rojo ', 'Sergio Romero ', 'Oriol Romeu ',\n",
       "       'Salomón Rondón ', 'Wayne Rooney ', 'Danny Rose ',\n",
       "       'Liam Rosenior ', 'Wayne Routledge ', 'Charlie Rowan ',\n",
       "       'Antonio Rüdiger ', 'Mat Ryan ', 'Abdelhamid Sabiri ',\n",
       "       'Henri Saivet ', 'Mamadou Sakho ', 'Bakary Sako ',\n",
       "       'Martin Samuelsen ', 'Alexis Sánchez ', 'Jadon Sancho ',\n",
       "       'Max Sanders ', 'Leroy Sané ', 'Santi Cazorla ', 'Sean Scannell ',\n",
       "       'Ezequiel Schelotto ', 'Christopher Schindler ',\n",
       "       'Jeffrey Schlupp ', 'Kasper Schmeichel ', 'Morgan Schneiderlin ',\n",
       "       'Ryan Schofield ', 'Kyle Scott ', 'Matz Sels ', 'Xherdan Shaqiri ',\n",
       "       'Samuel Shashoua ', 'Luke Shaw ', 'Ryan Shawcross ', 'Ben Sheaf ',\n",
       "       'Jonjo Shelvey ', 'Oliver Shenton ', 'Steve Sidwell ',\n",
       "       'Gylfi Sigurdsson ', 'David Silva ', 'Jack Simpson ', 'Josh Sims ',\n",
       "       'Jerome Sinclair ', 'Moussa Sissoko ', 'Jiri Skalak ',\n",
       "       'Islam Slimani ', 'Chris Smalling ', 'Adam Smith ',\n",
       "       'Robert Snodgrass ', 'Rubén Sobrino ', 'Dominic Solanke ',\n",
       "       'Son Heung-Min ', 'Pape Souaré ', 'Harry Souttar ',\n",
       "       'Julian Speroni ', 'Raphael Spiegel ', 'Konstantinos Stafylidis ',\n",
       "       'Junior Stanislas ', 'Jon Gorenc Stankovic ',\n",
       "       'Maarten Stekelenburg ', 'Dale Stephens ', 'Dujon Sterling ',\n",
       "       'Jamie Sterry ', 'Steve Cook ', 'Kevin Stewart ', 'John Stones ',\n",
       "       'Stuart Taylor ', 'Daniel Sturridge ', 'Mario Suárez ',\n",
       "       'Andrew Surman ', 'Sam Surridge ', 'Markus Suttner ',\n",
       "       'Ryan Sweeney ', 'Wojciech Szczesny ', 'Lasse Sørensen ',\n",
       "       'Alexander Sørloth ', 'Dusan Tadic ', 'Matt Targett ',\n",
       "       'James Tarkowski ', 'Kyle Taylor ', 'George Thomas ',\n",
       "       'James Tilley ', 'Tom Dele-Bashiru ', 'James Tomkins ',\n",
       "       'Fikayo Tomori ', 'Toni Martínez ', 'Tosin Adarabioyo ',\n",
       "       'Cenk Tosun ', 'Yaya Touré ', 'Richard Towell ',\n",
       "       'Andros Townsend ', 'Kieran Trippier ', 'Nathan Trott ',\n",
       "       'Axel Tuanzebe ', 'Rayhaan Tulloch ', 'Josh Tymon ',\n",
       "       'Leonardo Ulloa ', 'Fredrik Ulvestad ', 'Luis Antonio Valencia ',\n",
       "       'Patrick van Aanholt ', 'Mike van der Hoorn ', 'Virgil van Dijk ',\n",
       "       'Rajiv van La Parra ', 'Jamie Vardy ', 'Guillermo Varela ',\n",
       "       'Thibaud Verlinden ', 'Jan Vertonghen ', 'Nikola Vlasic ',\n",
       "       'Sam Vokes ', 'Michel Vorm ', 'Mark Waddington ', 'Molla Wagué ',\n",
       "       'Theo Walcott ', 'Kyle Walker ', 'Kyle Walker-Peters ',\n",
       "       'Anton Walkes ', 'Jonathan Walters ', 'Christian Walton ',\n",
       "       'Aaron Wan-Bissaka ', 'Victor Wanyama ', 'Stephen Ward ',\n",
       "       'James Ward-Prowse ', 'Ben Watson ', 'Danny Welbeck ',\n",
       "       'Nahki Wells ', 'Ashley Westwood ', 'Glenn Whelan ', 'Ben White ',\n",
       "       'Dean Whitehead ', 'Alfie Whiteman ', 'Connor Wickham ',\n",
       "       'Rhoys Wiggins ', 'Georginio Wijnaldum ', 'Wilfred Ndidi ',\n",
       "       'Will Miller ', 'Ashley Williams ', 'Willian ', 'Joseph Willock ',\n",
       "       'Jack Wilshere ', 'Marc Wilson ', 'Kevin Wimmer ', 'Harry Winks ',\n",
       "       'Philipp Wollscheid ', 'Chris Wood ', 'Ben Woodburn ',\n",
       "       'Freddie Woodman ', 'Matthew Worthington ', 'Granit Xhaka ',\n",
       "       'Claudio Yacob ', 'Josef Yarney ', 'DeAndre Yedlin ',\n",
       "       'Maya Yoshida ', 'Ashley Young ', 'Pablo Zabaleta ',\n",
       "       'Wilfried Zaha ', 'Zanka ', 'Davide Zappacosta ', 'Mauro Zárate ',\n",
       "       'Marvin Zeegelaar ', 'Zhang Yuning ', 'Ron-Robert Zieler ',\n",
       "       'Oleksandr Zinchenko ', 'Kurt Zouma '], dtype=object)"
      ]
     },
     "execution_count": 54,
     "metadata": {},
     "output_type": "execute_result"
    }
   ],
   "source": [
    "p_data_18[\"Name\"].unique()"
   ]
  },
  {
   "cell_type": "code",
   "execution_count": 55,
   "metadata": {},
   "outputs": [
    {
     "data": {
      "text/plain": [
       "Index(['sofifa_id', 'player_url', 'short_name', 'long_name', 'age', 'dob',\n",
       "       'height_cm', 'weight_kg', 'nationality', 'club',\n",
       "       ...\n",
       "       'ldm', 'cdm', 'rdm', 'rwb', 'lb', 'lcb', 'cb', 'rcb', 'rb', 'mod name'],\n",
       "      dtype='object', length=105)"
      ]
     },
     "execution_count": 55,
     "metadata": {},
     "output_type": "execute_result"
    }
   ],
   "source": [
    "fifa_data_18.columns"
   ]
  },
  {
   "cell_type": "code",
   "execution_count": 56,
   "metadata": {},
   "outputs": [],
   "source": [
    "fifa_data_reduced= fifa_data_18[['mod name', 'age', 'nationality', 'value_eur', 'overall']]"
   ]
  },
  {
   "cell_type": "code",
   "execution_count": null,
   "metadata": {},
   "outputs": [],
   "source": []
  },
  {
   "cell_type": "code",
   "execution_count": 57,
   "metadata": {},
   "outputs": [],
   "source": [
    "p_data_18[\"mod name\"] = p_data_18[\"Name\"].apply(lambda x: \" \".join([x.strip().split(\" \")[0], x.strip().split(\" \")[-1]]))\n",
    "# .apply(lambda x: x.split(\" \")[-1])"
   ]
  },
  {
   "cell_type": "code",
   "execution_count": 58,
   "metadata": {},
   "outputs": [
    {
     "data": {
      "text/plain": [
       "(793, 55)"
      ]
     },
     "execution_count": 58,
     "metadata": {},
     "output_type": "execute_result"
    }
   ],
   "source": [
    "p_data_18.shape"
   ]
  },
  {
   "cell_type": "code",
   "execution_count": 59,
   "metadata": {},
   "outputs": [],
   "source": [
    "# p_data_18[\"Name\"][0].strip().split(\" \")"
   ]
  },
  {
   "cell_type": "code",
   "execution_count": null,
   "metadata": {},
   "outputs": [],
   "source": []
  },
  {
   "cell_type": "code",
   "execution_count": 60,
   "metadata": {},
   "outputs": [
    {
     "data": {
      "text/plain": [
       "0           Rolando Aarons\n",
       "1               Abdul Baba\n",
       "2            Tammy Abraham\n",
       "3             Charlie Adam\n",
       "4            Adrián Adrián\n",
       "              ...         \n",
       "788       Marvin Zeegelaar\n",
       "789           Zhang Yuning\n",
       "790      Ron-Robert Zieler\n",
       "791    Oleksandr Zinchenko\n",
       "792             Kurt Zouma\n",
       "Name: mod name, Length: 793, dtype: object"
      ]
     },
     "execution_count": 60,
     "metadata": {},
     "output_type": "execute_result"
    }
   ],
   "source": [
    "p_data_18[\"mod name\"]"
   ]
  },
  {
   "cell_type": "code",
   "execution_count": 61,
   "metadata": {},
   "outputs": [],
   "source": [
    "merge_data_18 = pd.merge(p_data_18[['Position', 'Appearances', 'Clean sheets',\n",
    "       'Goals conceded', 'Tackles', 'Tackle success %', 'Last man tackles',\n",
    "       'Blocked shots', 'Interceptions', 'Clearances', 'Headed Clearance',\n",
    "       'Clearances off line', 'Recoveries', 'Duels won', 'Duels lost',\n",
    "       'Successful 50/50s', 'Aerial battles won', 'Aerial battles lost',\n",
    "       'Own goals', 'Errors leading to goal', 'Assists', 'Passes',\n",
    "       'Passes per match', 'Big chances created', 'Crosses',\n",
    "       'Cross accuracy %', 'Through balls', 'Accurate long balls',\n",
    "       'Yellow cards', 'Red cards', 'Fouls', 'Offsides', 'Goals',\n",
    "       'Headed goals', 'Goals with right foot', 'Goals with left foot',\n",
    "       'Hit woodwork', 'Goals per match', 'Penalties scored',\n",
    "       'Freekicks scored', 'Shots', 'Shots on target', 'Shooting accuracy %',\n",
    "       'Big chances missed', 'Saves', 'Penalties saved', 'Punches',\n",
    "       'High Claims', 'Catches', 'Sweeper clearances', 'Throw outs',\n",
    "       'Goal Kicks','mod name'] ], fifa_data_reduced, on=\"mod name\")"
   ]
  },
  {
   "cell_type": "code",
   "execution_count": 62,
   "metadata": {},
   "outputs": [
    {
     "data": {
      "text/plain": [
       "(552, 57)"
      ]
     },
     "execution_count": 62,
     "metadata": {},
     "output_type": "execute_result"
    }
   ],
   "source": [
    "merge_data_18.shape"
   ]
  },
  {
   "cell_type": "code",
   "execution_count": 63,
   "metadata": {},
   "outputs": [],
   "source": [
    "merge_data_18['Season'] = \"2017-18\"\n",
    "merge_data_18.to_csv('2017-18.csv',index=False)"
   ]
  },
  {
   "cell_type": "code",
   "execution_count": 64,
   "metadata": {},
   "outputs": [],
   "source": [
    "p_data_19 = pd.read_csv(\"pl_18-19.csv\")\n",
    "fifa_data_19 = pd.read_csv(\"players_19.csv\")"
   ]
  },
  {
   "cell_type": "code",
   "execution_count": 65,
   "metadata": {},
   "outputs": [],
   "source": [
    "fifa_data_19[\"mod name\"] = fifa_data_19[\"long_name\"].apply(lambda x: \" \".join([x.split(\" \")[0], x.split(\" \")[-1]]))"
   ]
  },
  {
   "cell_type": "code",
   "execution_count": 66,
   "metadata": {},
   "outputs": [],
   "source": [
    "p_data_19[\"mod name\"] = p_data_19[\"Name\"].apply(lambda x: \" \".join([x.strip().split(\" \")[0], x.strip().split(\" \")[-1]]))"
   ]
  },
  {
   "cell_type": "code",
   "execution_count": 67,
   "metadata": {},
   "outputs": [],
   "source": [
    "fifa_data_reduced_19= fifa_data_19[['mod name', 'age', 'nationality', 'value_eur', 'overall']]"
   ]
  },
  {
   "cell_type": "code",
   "execution_count": 68,
   "metadata": {},
   "outputs": [],
   "source": [
    "merge_data_19 = pd.merge(p_data_19[['Position', 'Appearances', 'Clean sheets',\n",
    "       'Goals conceded', 'Tackles', 'Tackle success %', 'Last man tackles',\n",
    "       'Blocked shots', 'Interceptions', 'Clearances', 'Headed Clearance',\n",
    "       'Clearances off line', 'Recoveries', 'Duels won', 'Duels lost',\n",
    "       'Successful 50/50s', 'Aerial battles won', 'Aerial battles lost',\n",
    "       'Own goals', 'Errors leading to goal', 'Assists', 'Passes',\n",
    "       'Passes per match', 'Big chances created', 'Crosses',\n",
    "       'Cross accuracy %', 'Through balls', 'Accurate long balls',\n",
    "       'Yellow cards', 'Red cards', 'Fouls', 'Offsides', 'Goals',\n",
    "       'Headed goals', 'Goals with right foot', 'Goals with left foot',\n",
    "       'Hit woodwork', 'Goals per match', 'Penalties scored',\n",
    "       'Freekicks scored', 'Shots', 'Shots on target', 'Shooting accuracy %',\n",
    "       'Big chances missed', 'Saves', 'Penalties saved', 'Punches',\n",
    "       'High Claims', 'Catches', 'Sweeper clearances', 'Throw outs',\n",
    "       'Goal Kicks','mod name'] ], fifa_data_reduced_19, on=\"mod name\")"
   ]
  },
  {
   "cell_type": "code",
   "execution_count": 69,
   "metadata": {},
   "outputs": [
    {
     "data": {
      "text/plain": [
       "(609, 57)"
      ]
     },
     "execution_count": 69,
     "metadata": {},
     "output_type": "execute_result"
    }
   ],
   "source": [
    "merge_data_19.shape"
   ]
  },
  {
   "cell_type": "code",
   "execution_count": 70,
   "metadata": {},
   "outputs": [],
   "source": [
    "merge_data_19['Season'] = \"2018-19\"\n",
    "merge_data_19.to_csv('2018-19.csv',index=False)"
   ]
  },
  {
   "cell_type": "code",
   "execution_count": 71,
   "metadata": {},
   "outputs": [],
   "source": [
    "p_data_20 = pd.read_csv(\"pl_19-20.csv\")\n",
    "fifa_data_20 = pd.read_csv(\"players_20.csv\")"
   ]
  },
  {
   "cell_type": "code",
   "execution_count": 72,
   "metadata": {},
   "outputs": [],
   "source": [
    "fifa_data_20[\"mod name\"] = fifa_data_20[\"long_name\"].apply(lambda x: \" \".join([x.split(\" \")[0], x.split(\" \")[-1]]))"
   ]
  },
  {
   "cell_type": "code",
   "execution_count": 73,
   "metadata": {},
   "outputs": [],
   "source": [
    "p_data_20[\"mod name\"] = p_data_20[\"Name\"].apply(lambda x: \" \".join([x.strip().split(\" \")[0], x.strip().split(\" \")[-1]]))"
   ]
  },
  {
   "cell_type": "code",
   "execution_count": 74,
   "metadata": {},
   "outputs": [],
   "source": [
    "fifa_data_reduced_20= fifa_data_20[['mod name', 'age', 'nationality', 'value_eur', 'overall']]"
   ]
  },
  {
   "cell_type": "code",
   "execution_count": 75,
   "metadata": {},
   "outputs": [],
   "source": [
    "merge_data_20 = pd.merge(p_data_20[['Position', 'Appearances', 'Clean sheets',\n",
    "       'Goals conceded', 'Tackles', 'Tackle success %', 'Last man tackles',\n",
    "       'Blocked shots', 'Interceptions', 'Clearances', 'Headed Clearance',\n",
    "       'Clearances off line', 'Recoveries', 'Duels won', 'Duels lost',\n",
    "       'Successful 50/50s', 'Aerial battles won', 'Aerial battles lost',\n",
    "       'Own goals', 'Errors leading to goal', 'Assists', 'Passes',\n",
    "       'Passes per match', 'Big chances created', 'Crosses',\n",
    "       'Cross accuracy %', 'Through balls', 'Accurate long balls',\n",
    "       'Yellow cards', 'Red cards', 'Fouls', 'Offsides', 'Goals',\n",
    "       'Headed goals', 'Goals with right foot', 'Goals with left foot',\n",
    "       'Hit woodwork', 'Goals per match', 'Penalties scored',\n",
    "       'Freekicks scored', 'Shots', 'Shots on target', 'Shooting accuracy %',\n",
    "       'Big chances missed', 'Saves', 'Penalties saved', 'Punches',\n",
    "       'High Claims', 'Catches', 'Sweeper clearances', 'Throw outs',\n",
    "       'Goal Kicks','mod name'] ], fifa_data_reduced_20, on=\"mod name\")"
   ]
  },
  {
   "cell_type": "code",
   "execution_count": 76,
   "metadata": {},
   "outputs": [
    {
     "data": {
      "text/plain": [
       "(632, 57)"
      ]
     },
     "execution_count": 76,
     "metadata": {},
     "output_type": "execute_result"
    }
   ],
   "source": [
    "merge_data_20.shape"
   ]
  },
  {
   "cell_type": "code",
   "execution_count": 77,
   "metadata": {},
   "outputs": [],
   "source": [
    "merge_data_20['Season'] = \"2019-20\"\n",
    "merge_data_20.to_csv('2019-20.csv',index=False)"
   ]
  },
  {
   "cell_type": "code",
   "execution_count": null,
   "metadata": {},
   "outputs": [],
   "source": []
  },
  {
   "cell_type": "code",
   "execution_count": 78,
   "metadata": {},
   "outputs": [],
   "source": [
    "final_data = pd.concat([merge_data_18,merge_data_19,merge_data_20])"
   ]
  },
  {
   "cell_type": "code",
   "execution_count": 79,
   "metadata": {},
   "outputs": [
    {
     "data": {
      "text/plain": [
       "(1793, 58)"
      ]
     },
     "execution_count": 79,
     "metadata": {},
     "output_type": "execute_result"
    }
   ],
   "source": [
    "final_data.shape"
   ]
  },
  {
   "cell_type": "code",
   "execution_count": 80,
   "metadata": {},
   "outputs": [],
   "source": [
    "final_data.to_csv('final_data.csv',index=False)"
   ]
  },
  {
   "cell_type": "code",
   "execution_count": null,
   "metadata": {},
   "outputs": [],
   "source": []
  }
 ],
 "metadata": {
  "kernelspec": {
   "display_name": "Python 3",
   "language": "python",
   "name": "python3"
  },
  "language_info": {
   "codemirror_mode": {
    "name": "ipython",
    "version": 3
   },
   "file_extension": ".py",
   "mimetype": "text/x-python",
   "name": "python",
   "nbconvert_exporter": "python",
   "pygments_lexer": "ipython3",
   "version": "3.7.4"
  }
 },
 "nbformat": 4,
 "nbformat_minor": 4
}
