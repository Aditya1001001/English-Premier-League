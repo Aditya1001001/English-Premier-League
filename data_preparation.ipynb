{
 "cells": [
  {
   "cell_type": "code",
   "execution_count": 1,
   "metadata": {},
   "outputs": [],
   "source": [
    "import pandas as pd"
   ]
  },
  {
   "cell_type": "code",
   "execution_count": 2,
   "metadata": {},
   "outputs": [],
   "source": [
    "data = pd.read_csv(\"final_data.csv\")"
   ]
  },
  {
   "cell_type": "code",
   "execution_count": 3,
   "metadata": {},
   "outputs": [
    {
     "data": {
      "text/plain": [
       "Position                   object\n",
       "Appearances                 int64\n",
       "Clean sheets              float64\n",
       "Goals conceded            float64\n",
       "Tackles                   float64\n",
       "Tackle success %           object\n",
       "Last man tackles          float64\n",
       "Blocked shots             float64\n",
       "Interceptions             float64\n",
       "Clearances                float64\n",
       "Headed Clearance          float64\n",
       "Clearances off line       float64\n",
       "Recoveries                float64\n",
       "Duels won                 float64\n",
       "Duels lost                float64\n",
       "Successful 50/50s         float64\n",
       "Aerial battles won        float64\n",
       "Aerial battles lost       float64\n",
       "Own goals                 float64\n",
       "Errors leading to goal    float64\n",
       "Assists                     int64\n",
       "Passes                     object\n",
       "Passes per match          float64\n",
       "Big chances created       float64\n",
       "Crosses                   float64\n",
       "Cross accuracy %           object\n",
       "Through balls             float64\n",
       "Accurate long balls       float64\n",
       "Yellow cards                int64\n",
       "Red cards                   int64\n",
       "Fouls                       int64\n",
       "Offsides                  float64\n",
       "Goals                       int64\n",
       "Headed goals              float64\n",
       "Goals with right foot     float64\n",
       "Goals with left foot      float64\n",
       "Hit woodwork              float64\n",
       "Goals per match           float64\n",
       "Penalties scored          float64\n",
       "Freekicks scored          float64\n",
       "Shots                     float64\n",
       "Shots on target           float64\n",
       "Shooting accuracy %        object\n",
       "Big chances missed        float64\n",
       "Saves                     float64\n",
       "Penalties saved           float64\n",
       "Punches                   float64\n",
       "High Claims               float64\n",
       "Catches                   float64\n",
       "Sweeper clearances        float64\n",
       "Throw outs                float64\n",
       "Goal Kicks                float64\n",
       "mod name                   object\n",
       "age                         int64\n",
       "nationality                object\n",
       "value_eur                   int64\n",
       "overall                     int64\n",
       "Season                     object\n",
       "dtype: object"
      ]
     },
     "execution_count": 3,
     "metadata": {},
     "output_type": "execute_result"
    }
   ],
   "source": [
    "data.dtypes"
   ]
  },
  {
   "cell_type": "code",
   "execution_count": 4,
   "metadata": {},
   "outputs": [
    {
     "data": {
      "text/html": [
       "<div>\n",
       "<style scoped>\n",
       "    .dataframe tbody tr th:only-of-type {\n",
       "        vertical-align: middle;\n",
       "    }\n",
       "\n",
       "    .dataframe tbody tr th {\n",
       "        vertical-align: top;\n",
       "    }\n",
       "\n",
       "    .dataframe thead th {\n",
       "        text-align: right;\n",
       "    }\n",
       "</style>\n",
       "<table border=\"1\" class=\"dataframe\">\n",
       "  <thead>\n",
       "    <tr style=\"text-align: right;\">\n",
       "      <th></th>\n",
       "      <th>Position</th>\n",
       "      <th>Appearances</th>\n",
       "      <th>Clean sheets</th>\n",
       "      <th>Goals conceded</th>\n",
       "      <th>Tackles</th>\n",
       "      <th>Tackle success %</th>\n",
       "      <th>Last man tackles</th>\n",
       "      <th>Blocked shots</th>\n",
       "      <th>Interceptions</th>\n",
       "      <th>Clearances</th>\n",
       "      <th>...</th>\n",
       "      <th>Catches</th>\n",
       "      <th>Sweeper clearances</th>\n",
       "      <th>Throw outs</th>\n",
       "      <th>Goal Kicks</th>\n",
       "      <th>mod name</th>\n",
       "      <th>age</th>\n",
       "      <th>nationality</th>\n",
       "      <th>value_eur</th>\n",
       "      <th>overall</th>\n",
       "      <th>Season</th>\n",
       "    </tr>\n",
       "  </thead>\n",
       "  <tbody>\n",
       "    <tr>\n",
       "      <th>0</th>\n",
       "      <td>Midfielder</td>\n",
       "      <td>4</td>\n",
       "      <td>NaN</td>\n",
       "      <td>NaN</td>\n",
       "      <td>4.0</td>\n",
       "      <td>100%</td>\n",
       "      <td>NaN</td>\n",
       "      <td>0.0</td>\n",
       "      <td>1.0</td>\n",
       "      <td>0.0</td>\n",
       "      <td>...</td>\n",
       "      <td>NaN</td>\n",
       "      <td>NaN</td>\n",
       "      <td>NaN</td>\n",
       "      <td>NaN</td>\n",
       "      <td>Rolando Aarons</td>\n",
       "      <td>21</td>\n",
       "      <td>England</td>\n",
       "      <td>4400000</td>\n",
       "      <td>72</td>\n",
       "      <td>2017-18</td>\n",
       "    </tr>\n",
       "    <tr>\n",
       "      <th>1</th>\n",
       "      <td>Defender</td>\n",
       "      <td>0</td>\n",
       "      <td>0.0</td>\n",
       "      <td>0.0</td>\n",
       "      <td>0.0</td>\n",
       "      <td>0%</td>\n",
       "      <td>0.0</td>\n",
       "      <td>0.0</td>\n",
       "      <td>0.0</td>\n",
       "      <td>0.0</td>\n",
       "      <td>...</td>\n",
       "      <td>NaN</td>\n",
       "      <td>NaN</td>\n",
       "      <td>NaN</td>\n",
       "      <td>NaN</td>\n",
       "      <td>Abdul Baba</td>\n",
       "      <td>22</td>\n",
       "      <td>Ghana</td>\n",
       "      <td>10500000</td>\n",
       "      <td>77</td>\n",
       "      <td>2017-18</td>\n",
       "    </tr>\n",
       "    <tr>\n",
       "      <th>2</th>\n",
       "      <td>Forward</td>\n",
       "      <td>31</td>\n",
       "      <td>NaN</td>\n",
       "      <td>NaN</td>\n",
       "      <td>10.0</td>\n",
       "      <td>NaN</td>\n",
       "      <td>NaN</td>\n",
       "      <td>11.0</td>\n",
       "      <td>1.0</td>\n",
       "      <td>11.0</td>\n",
       "      <td>...</td>\n",
       "      <td>NaN</td>\n",
       "      <td>NaN</td>\n",
       "      <td>NaN</td>\n",
       "      <td>NaN</td>\n",
       "      <td>Tammy Abraham</td>\n",
       "      <td>19</td>\n",
       "      <td>England</td>\n",
       "      <td>7500000</td>\n",
       "      <td>73</td>\n",
       "      <td>2017-18</td>\n",
       "    </tr>\n",
       "    <tr>\n",
       "      <th>3</th>\n",
       "      <td>Midfielder</td>\n",
       "      <td>11</td>\n",
       "      <td>NaN</td>\n",
       "      <td>NaN</td>\n",
       "      <td>9.0</td>\n",
       "      <td>56%</td>\n",
       "      <td>NaN</td>\n",
       "      <td>3.0</td>\n",
       "      <td>9.0</td>\n",
       "      <td>9.0</td>\n",
       "      <td>...</td>\n",
       "      <td>NaN</td>\n",
       "      <td>NaN</td>\n",
       "      <td>NaN</td>\n",
       "      <td>NaN</td>\n",
       "      <td>Charlie Adam</td>\n",
       "      <td>31</td>\n",
       "      <td>Scotland</td>\n",
       "      <td>4800000</td>\n",
       "      <td>74</td>\n",
       "      <td>2017-18</td>\n",
       "    </tr>\n",
       "    <tr>\n",
       "      <th>4</th>\n",
       "      <td>Midfielder</td>\n",
       "      <td>12</td>\n",
       "      <td>NaN</td>\n",
       "      <td>NaN</td>\n",
       "      <td>22.0</td>\n",
       "      <td>59%</td>\n",
       "      <td>NaN</td>\n",
       "      <td>5.0</td>\n",
       "      <td>14.0</td>\n",
       "      <td>0.0</td>\n",
       "      <td>...</td>\n",
       "      <td>NaN</td>\n",
       "      <td>NaN</td>\n",
       "      <td>NaN</td>\n",
       "      <td>NaN</td>\n",
       "      <td>Adrien Silva</td>\n",
       "      <td>28</td>\n",
       "      <td>Portugal</td>\n",
       "      <td>0</td>\n",
       "      <td>83</td>\n",
       "      <td>2017-18</td>\n",
       "    </tr>\n",
       "  </tbody>\n",
       "</table>\n",
       "<p>5 rows × 58 columns</p>\n",
       "</div>"
      ],
      "text/plain": [
       "     Position  Appearances  Clean sheets  Goals conceded  Tackles  \\\n",
       "0  Midfielder            4           NaN             NaN      4.0   \n",
       "1    Defender            0           0.0             0.0      0.0   \n",
       "2     Forward           31           NaN             NaN     10.0   \n",
       "3  Midfielder           11           NaN             NaN      9.0   \n",
       "4  Midfielder           12           NaN             NaN     22.0   \n",
       "\n",
       "  Tackle success %  Last man tackles  Blocked shots  Interceptions  \\\n",
       "0             100%               NaN            0.0            1.0   \n",
       "1               0%               0.0            0.0            0.0   \n",
       "2              NaN               NaN           11.0            1.0   \n",
       "3              56%               NaN            3.0            9.0   \n",
       "4              59%               NaN            5.0           14.0   \n",
       "\n",
       "   Clearances  ...  Catches  Sweeper clearances  Throw outs  Goal Kicks  \\\n",
       "0         0.0  ...      NaN                 NaN         NaN         NaN   \n",
       "1         0.0  ...      NaN                 NaN         NaN         NaN   \n",
       "2        11.0  ...      NaN                 NaN         NaN         NaN   \n",
       "3         9.0  ...      NaN                 NaN         NaN         NaN   \n",
       "4         0.0  ...      NaN                 NaN         NaN         NaN   \n",
       "\n",
       "         mod name  age  nationality  value_eur  overall   Season  \n",
       "0  Rolando Aarons   21      England    4400000       72  2017-18  \n",
       "1      Abdul Baba   22        Ghana   10500000       77  2017-18  \n",
       "2   Tammy Abraham   19      England    7500000       73  2017-18  \n",
       "3    Charlie Adam   31     Scotland    4800000       74  2017-18  \n",
       "4    Adrien Silva   28     Portugal          0       83  2017-18  \n",
       "\n",
       "[5 rows x 58 columns]"
      ]
     },
     "execution_count": 4,
     "metadata": {},
     "output_type": "execute_result"
    }
   ],
   "source": [
    "data.head()"
   ]
  },
  {
   "cell_type": "code",
   "execution_count": 5,
   "metadata": {},
   "outputs": [
    {
     "data": {
      "text/plain": [
       "(1793, 58)"
      ]
     },
     "execution_count": 5,
     "metadata": {},
     "output_type": "execute_result"
    }
   ],
   "source": [
    "data.shape"
   ]
  },
  {
   "cell_type": "code",
   "execution_count": 6,
   "metadata": {},
   "outputs": [
    {
     "data": {
      "text/plain": [
       "Index(['Position', 'Appearances', 'Clean sheets', 'Goals conceded', 'Tackles',\n",
       "       'Tackle success %', 'Last man tackles', 'Blocked shots',\n",
       "       'Interceptions', 'Clearances', 'Headed Clearance',\n",
       "       'Clearances off line', 'Recoveries', 'Duels won', 'Duels lost',\n",
       "       'Successful 50/50s', 'Aerial battles won', 'Aerial battles lost',\n",
       "       'Own goals', 'Errors leading to goal', 'Assists', 'Passes',\n",
       "       'Passes per match', 'Big chances created', 'Crosses',\n",
       "       'Cross accuracy %', 'Through balls', 'Accurate long balls',\n",
       "       'Yellow cards', 'Red cards', 'Fouls', 'Offsides', 'Goals',\n",
       "       'Headed goals', 'Goals with right foot', 'Goals with left foot',\n",
       "       'Hit woodwork', 'Goals per match', 'Penalties scored',\n",
       "       'Freekicks scored', 'Shots', 'Shots on target', 'Shooting accuracy %',\n",
       "       'Big chances missed', 'Saves', 'Penalties saved', 'Punches',\n",
       "       'High Claims', 'Catches', 'Sweeper clearances', 'Throw outs',\n",
       "       'Goal Kicks', 'mod name', 'age', 'nationality', 'value_eur', 'overall',\n",
       "       'Season'],\n",
       "      dtype='object')"
      ]
     },
     "execution_count": 6,
     "metadata": {},
     "output_type": "execute_result"
    }
   ],
   "source": [
    "data.columns"
   ]
  },
  {
   "cell_type": "code",
   "execution_count": 7,
   "metadata": {},
   "outputs": [
    {
     "data": {
      "text/plain": [
       "0    50%\n",
       "1     0%\n",
       "2    NaN\n",
       "3    27%\n",
       "4     0%\n",
       "Name: Cross accuracy %, dtype: object"
      ]
     },
     "execution_count": 7,
     "metadata": {},
     "output_type": "execute_result"
    }
   ],
   "source": [
    "data['Cross accuracy %'].head()"
   ]
  },
  {
   "cell_type": "code",
   "execution_count": 8,
   "metadata": {},
   "outputs": [],
   "source": [
    "missing_1 = [ (i, data[i].isnull().sum()) for i in data.columns if data[i].isnull().sum() > 0]"
   ]
  },
  {
   "cell_type": "code",
   "execution_count": 9,
   "metadata": {},
   "outputs": [
    {
     "data": {
      "text/plain": [
       "[('Clean sheets', 1007),\n",
       " ('Goals conceded', 1007),\n",
       " ('Tackles', 183),\n",
       " ('Tackle success %', 521),\n",
       " ('Last man tackles', 1190),\n",
       " ('Blocked shots', 183),\n",
       " ('Interceptions', 183),\n",
       " ('Clearances', 183),\n",
       " ('Headed Clearance', 183),\n",
       " ('Clearances off line', 1190),\n",
       " ('Recoveries', 521),\n",
       " ('Duels won', 521),\n",
       " ('Duels lost', 521),\n",
       " ('Successful 50/50s', 521),\n",
       " ('Aerial battles won', 521),\n",
       " ('Aerial battles lost', 521),\n",
       " ('Own goals', 1007),\n",
       " ('Errors leading to goal', 338),\n",
       " ('Big chances created', 183),\n",
       " ('Crosses', 183),\n",
       " ('Cross accuracy %', 521),\n",
       " ('Through balls', 521),\n",
       " ('Accurate long balls', 338),\n",
       " ('Offsides', 183),\n",
       " ('Headed goals', 183),\n",
       " ('Goals with right foot', 183),\n",
       " ('Goals with left foot', 183),\n",
       " ('Hit woodwork', 183),\n",
       " ('Goals per match', 786),\n",
       " ('Penalties scored', 786),\n",
       " ('Freekicks scored', 786),\n",
       " ('Shots', 786),\n",
       " ('Shots on target', 786),\n",
       " ('Shooting accuracy %', 786),\n",
       " ('Big chances missed', 786),\n",
       " ('Saves', 1610),\n",
       " ('Penalties saved', 1610),\n",
       " ('Punches', 1610),\n",
       " ('High Claims', 1610),\n",
       " ('Catches', 1610),\n",
       " ('Sweeper clearances', 1610),\n",
       " ('Throw outs', 1610),\n",
       " ('Goal Kicks', 1610)]"
      ]
     },
     "execution_count": 9,
     "metadata": {},
     "output_type": "execute_result"
    }
   ],
   "source": [
    "missing_1"
   ]
  },
  {
   "cell_type": "code",
   "execution_count": 10,
   "metadata": {},
   "outputs": [
    {
     "data": {
      "text/plain": [
       "array(['Midfielder', 'Defender', 'Forward', 'Goalkeeper'], dtype=object)"
      ]
     },
     "execution_count": 10,
     "metadata": {},
     "output_type": "execute_result"
    }
   ],
   "source": [
    "data[\"Position\"].unique()"
   ]
  },
  {
   "cell_type": "code",
   "execution_count": 11,
   "metadata": {},
   "outputs": [
    {
     "data": {
      "text/html": [
       "<div>\n",
       "<style scoped>\n",
       "    .dataframe tbody tr th:only-of-type {\n",
       "        vertical-align: middle;\n",
       "    }\n",
       "\n",
       "    .dataframe tbody tr th {\n",
       "        vertical-align: top;\n",
       "    }\n",
       "\n",
       "    .dataframe thead th {\n",
       "        text-align: right;\n",
       "    }\n",
       "</style>\n",
       "<table border=\"1\" class=\"dataframe\">\n",
       "  <thead>\n",
       "    <tr style=\"text-align: right;\">\n",
       "      <th></th>\n",
       "      <th>Saves</th>\n",
       "      <th>Penalties saved</th>\n",
       "    </tr>\n",
       "  </thead>\n",
       "  <tbody>\n",
       "    <tr>\n",
       "      <th>167</th>\n",
       "      <td>68.0</td>\n",
       "      <td>1.0</td>\n",
       "    </tr>\n",
       "    <tr>\n",
       "      <th>200</th>\n",
       "      <td>53.0</td>\n",
       "      <td>1.0</td>\n",
       "    </tr>\n",
       "    <tr>\n",
       "      <th>255</th>\n",
       "      <td>31.0</td>\n",
       "      <td>1.0</td>\n",
       "    </tr>\n",
       "    <tr>\n",
       "      <th>303</th>\n",
       "      <td>103.0</td>\n",
       "      <td>2.0</td>\n",
       "    </tr>\n",
       "    <tr>\n",
       "      <th>341</th>\n",
       "      <td>36.0</td>\n",
       "      <td>1.0</td>\n",
       "    </tr>\n",
       "    <tr>\n",
       "      <th>394</th>\n",
       "      <td>121.0</td>\n",
       "      <td>1.0</td>\n",
       "    </tr>\n",
       "    <tr>\n",
       "      <th>398</th>\n",
       "      <td>114.0</td>\n",
       "      <td>1.0</td>\n",
       "    </tr>\n",
       "    <tr>\n",
       "      <th>445</th>\n",
       "      <td>93.0</td>\n",
       "      <td>2.0</td>\n",
       "    </tr>\n",
       "    <tr>\n",
       "      <th>575</th>\n",
       "      <td>82.0</td>\n",
       "      <td>1.0</td>\n",
       "    </tr>\n",
       "    <tr>\n",
       "      <th>608</th>\n",
       "      <td>20.0</td>\n",
       "      <td>1.0</td>\n",
       "    </tr>\n",
       "    <tr>\n",
       "      <th>721</th>\n",
       "      <td>141.0</td>\n",
       "      <td>3.0</td>\n",
       "    </tr>\n",
       "    <tr>\n",
       "      <th>731</th>\n",
       "      <td>127.0</td>\n",
       "      <td>1.0</td>\n",
       "    </tr>\n",
       "    <tr>\n",
       "      <th>766</th>\n",
       "      <td>33.0</td>\n",
       "      <td>1.0</td>\n",
       "    </tr>\n",
       "    <tr>\n",
       "      <th>774</th>\n",
       "      <td>77.0</td>\n",
       "      <td>1.0</td>\n",
       "    </tr>\n",
       "    <tr>\n",
       "      <th>786</th>\n",
       "      <td>44.0</td>\n",
       "      <td>1.0</td>\n",
       "    </tr>\n",
       "    <tr>\n",
       "      <th>882</th>\n",
       "      <td>101.0</td>\n",
       "      <td>2.0</td>\n",
       "    </tr>\n",
       "    <tr>\n",
       "      <th>888</th>\n",
       "      <td>88.0</td>\n",
       "      <td>1.0</td>\n",
       "    </tr>\n",
       "    <tr>\n",
       "      <th>997</th>\n",
       "      <td>94.0</td>\n",
       "      <td>3.0</td>\n",
       "    </tr>\n",
       "    <tr>\n",
       "      <th>1341</th>\n",
       "      <td>117.0</td>\n",
       "      <td>1.0</td>\n",
       "    </tr>\n",
       "    <tr>\n",
       "      <th>1357</th>\n",
       "      <td>59.0</td>\n",
       "      <td>1.0</td>\n",
       "    </tr>\n",
       "    <tr>\n",
       "      <th>1470</th>\n",
       "      <td>132.0</td>\n",
       "      <td>2.0</td>\n",
       "    </tr>\n",
       "    <tr>\n",
       "      <th>1487</th>\n",
       "      <td>113.0</td>\n",
       "      <td>1.0</td>\n",
       "    </tr>\n",
       "    <tr>\n",
       "      <th>1493</th>\n",
       "      <td>81.0</td>\n",
       "      <td>1.0</td>\n",
       "    </tr>\n",
       "    <tr>\n",
       "      <th>1536</th>\n",
       "      <td>7.0</td>\n",
       "      <td>1.0</td>\n",
       "    </tr>\n",
       "    <tr>\n",
       "      <th>1616</th>\n",
       "      <td>120.0</td>\n",
       "      <td>1.0</td>\n",
       "    </tr>\n",
       "    <tr>\n",
       "      <th>1628</th>\n",
       "      <td>129.0</td>\n",
       "      <td>1.0</td>\n",
       "    </tr>\n",
       "    <tr>\n",
       "      <th>1654</th>\n",
       "      <td>91.0</td>\n",
       "      <td>2.0</td>\n",
       "    </tr>\n",
       "    <tr>\n",
       "      <th>1671</th>\n",
       "      <td>96.0</td>\n",
       "      <td>2.0</td>\n",
       "    </tr>\n",
       "  </tbody>\n",
       "</table>\n",
       "</div>"
      ],
      "text/plain": [
       "      Saves  Penalties saved\n",
       "167    68.0              1.0\n",
       "200    53.0              1.0\n",
       "255    31.0              1.0\n",
       "303   103.0              2.0\n",
       "341    36.0              1.0\n",
       "394   121.0              1.0\n",
       "398   114.0              1.0\n",
       "445    93.0              2.0\n",
       "575    82.0              1.0\n",
       "608    20.0              1.0\n",
       "721   141.0              3.0\n",
       "731   127.0              1.0\n",
       "766    33.0              1.0\n",
       "774    77.0              1.0\n",
       "786    44.0              1.0\n",
       "882   101.0              2.0\n",
       "888    88.0              1.0\n",
       "997    94.0              3.0\n",
       "1341  117.0              1.0\n",
       "1357   59.0              1.0\n",
       "1470  132.0              2.0\n",
       "1487  113.0              1.0\n",
       "1493   81.0              1.0\n",
       "1536    7.0              1.0\n",
       "1616  120.0              1.0\n",
       "1628  129.0              1.0\n",
       "1654   91.0              2.0\n",
       "1671   96.0              2.0"
      ]
     },
     "execution_count": 11,
     "metadata": {},
     "output_type": "execute_result"
    }
   ],
   "source": [
    "data[(data['Saves'] > 0) & (data['Penalties saved'] > 0)][['Saves', 'Penalties saved']]"
   ]
  },
  {
   "cell_type": "markdown",
   "metadata": {},
   "source": [
    "## Feature Engineering\n",
    "Condensing columns that can be combined without comprising data quality"
   ]
  },
  {
   "cell_type": "code",
   "execution_count": 12,
   "metadata": {},
   "outputs": [],
   "source": [
    "for i in ['Punches', 'High Claims', 'Catches']:\n",
    "    data[i].fillna(0, inplace = True)"
   ]
  },
  {
   "cell_type": "code",
   "execution_count": 13,
   "metadata": {},
   "outputs": [
    {
     "data": {
      "text/plain": [
       "Punches        0\n",
       "High Claims    0\n",
       "Catches        0\n",
       "dtype: int64"
      ]
     },
     "execution_count": 13,
     "metadata": {},
     "output_type": "execute_result"
    }
   ],
   "source": [
    "data[['Punches', 'High Claims', 'Catches']].isnull().sum()"
   ]
  },
  {
   "cell_type": "code",
   "execution_count": 14,
   "metadata": {},
   "outputs": [],
   "source": [
    "data['Arial Saves'] = data['Punches'] + data['High Claims'] + data ['Catches']"
   ]
  },
  {
   "cell_type": "code",
   "execution_count": 15,
   "metadata": {},
   "outputs": [],
   "source": [
    "cols_to_drop = ['Punches', 'High Claims', 'Catches', 'Sweeper clearances', 'Throw outs', 'Goal Kicks']"
   ]
  },
  {
   "cell_type": "code",
   "execution_count": 16,
   "metadata": {},
   "outputs": [
    {
     "data": {
      "text/plain": [
       "Duels lost    0\n",
       "Duels won     0\n",
       "dtype: int64"
      ]
     },
     "execution_count": 16,
     "metadata": {},
     "output_type": "execute_result"
    }
   ],
   "source": [
    "data['Duels lost'].fillna(0, inplace = True)\n",
    "data['Duels won'].fillna(0, inplace = True)\n",
    "data[['Duels lost', 'Duels won']].isnull().sum()"
   ]
  },
  {
   "cell_type": "code",
   "execution_count": 17,
   "metadata": {},
   "outputs": [],
   "source": [
    "data['Duels %'] = data['Duels won'] * 100 / (data['Duels won'] + data['Duels lost'])\n",
    "\n",
    "#division by 0 creates more null values\n",
    "cols_to_drop.extend(['Duels lost', 'Duels won'])\n",
    "data['Duels %'].fillna(0, inplace = True)"
   ]
  },
  {
   "cell_type": "code",
   "execution_count": 18,
   "metadata": {},
   "outputs": [
    {
     "data": {
      "text/plain": [
       "Aerial battles won     0\n",
       "Aerial battles lost    0\n",
       "dtype: int64"
      ]
     },
     "execution_count": 18,
     "metadata": {},
     "output_type": "execute_result"
    }
   ],
   "source": [
    "data['Aerial battles won'].fillna(0, inplace = True)\n",
    "data['Aerial battles lost'].fillna(0, inplace = True)\n",
    "data[['Aerial battles won', 'Aerial battles lost']].isnull().sum()"
   ]
  },
  {
   "cell_type": "code",
   "execution_count": 19,
   "metadata": {},
   "outputs": [],
   "source": [
    "data['Aerial battles %'] = data['Aerial battles won'] * 100 / (data['Aerial battles won'] + data['Aerial battles lost'])\n",
    "#division by 0 creates more null values\n",
    "data['Aerial battles %'].fillna(0, inplace = True)\n",
    "cols_to_drop.extend(['Aerial battles won', 'Aerial battles lost'])"
   ]
  },
  {
   "cell_type": "code",
   "execution_count": 20,
   "metadata": {},
   "outputs": [],
   "source": [
    "cols_to_drop.extend(['Penalties scored','Freekicks scored'])"
   ]
  },
  {
   "cell_type": "code",
   "execution_count": 21,
   "metadata": {},
   "outputs": [],
   "source": [
    "# data[\"set piece goals\"] =  data['Penalties scored'] +  data['Freekicks scored']\n",
    "# #division by 0 creates more null values\n",
    "# data[\"set piece goals\"].fillna(0, inplace = True)\n"
   ]
  },
  {
   "cell_type": "code",
   "execution_count": 22,
   "metadata": {},
   "outputs": [
    {
     "data": {
      "text/plain": [
       "[('Clean sheets', 1007),\n",
       " ('Goals conceded', 1007),\n",
       " ('Tackles', 183),\n",
       " ('Tackle success %', 521),\n",
       " ('Last man tackles', 1190),\n",
       " ('Blocked shots', 183),\n",
       " ('Interceptions', 183),\n",
       " ('Clearances', 183),\n",
       " ('Headed Clearance', 183),\n",
       " ('Clearances off line', 1190),\n",
       " ('Recoveries', 521),\n",
       " ('Successful 50/50s', 521),\n",
       " ('Own goals', 1007),\n",
       " ('Errors leading to goal', 338),\n",
       " ('Big chances created', 183),\n",
       " ('Crosses', 183),\n",
       " ('Cross accuracy %', 521),\n",
       " ('Through balls', 521),\n",
       " ('Accurate long balls', 338),\n",
       " ('Offsides', 183),\n",
       " ('Headed goals', 183),\n",
       " ('Goals with right foot', 183),\n",
       " ('Goals with left foot', 183),\n",
       " ('Hit woodwork', 183),\n",
       " ('Goals per match', 786),\n",
       " ('Penalties scored', 786),\n",
       " ('Freekicks scored', 786),\n",
       " ('Shots', 786),\n",
       " ('Shots on target', 786),\n",
       " ('Shooting accuracy %', 786),\n",
       " ('Big chances missed', 786),\n",
       " ('Saves', 1610),\n",
       " ('Penalties saved', 1610),\n",
       " ('Sweeper clearances', 1610),\n",
       " ('Throw outs', 1610),\n",
       " ('Goal Kicks', 1610)]"
      ]
     },
     "execution_count": 22,
     "metadata": {},
     "output_type": "execute_result"
    }
   ],
   "source": [
    "missing_2 = [ (i, data[i].isnull().sum()) for i in data.columns if data[i].isnull().sum() > 0]\n",
    "missing_2"
   ]
  },
  {
   "cell_type": "code",
   "execution_count": null,
   "metadata": {},
   "outputs": [],
   "source": []
  },
  {
   "cell_type": "markdown",
   "metadata": {},
   "source": [
    "### Converting percentage strings into integer values"
   ]
  },
  {
   "cell_type": "code",
   "execution_count": 23,
   "metadata": {},
   "outputs": [],
   "source": [
    "for i in [ 'Tackle success %', 'Cross accuracy %', 'Shooting accuracy %']:\n",
    "    data[i].fillna('0', inplace = True)\n",
    "    data[i] = data[i].apply(lambda x: str(x[:-1]) if x != '0' else str(x))\n",
    "#     data[i] = data[i].apply(lambda x: '0' if x != '' else x)\n",
    "#     data[i].astype('int64')"
   ]
  },
  {
   "cell_type": "code",
   "execution_count": 24,
   "metadata": {},
   "outputs": [
    {
     "data": {
      "text/plain": [
       "array(['100', '0', '56', '59', '60', '74', '63', '68', '65', '50', '72',\n",
       "       '84', '94', '52', '54', '67', '71', '43', '73', '64', '66', '83',\n",
       "       '62', '81', '33', '80', '88', '70', '69', '61', '49', '57', '76',\n",
       "       '53', '79', '55', '85', '86', '58', '75', '82', '78', '42', '77',\n",
       "       '31', '51', '20', '47', '48', '40', '39', '41', '30', '46', '44',\n",
       "       '90', '29', '38', '36', '45', '25', '21', '35'], dtype=object)"
      ]
     },
     "execution_count": 24,
     "metadata": {},
     "output_type": "execute_result"
    }
   ],
   "source": [
    "data['Tackle success %'].unique()"
   ]
  },
  {
   "cell_type": "code",
   "execution_count": 25,
   "metadata": {},
   "outputs": [],
   "source": [
    "data['Tackle success %'] = data['Tackle success %'].astype('int64')\n",
    "data['Cross accuracy %'] = data['Cross accuracy %'].astype('int64')\n",
    "data['Shooting accuracy %'] = data['Shooting accuracy %'].astype('int64')"
   ]
  },
  {
   "cell_type": "code",
   "execution_count": 26,
   "metadata": {},
   "outputs": [
    {
     "data": {
      "text/plain": [
       "Position             object\n",
       "Appearances           int64\n",
       "Clean sheets        float64\n",
       "Goals conceded      float64\n",
       "Tackles             float64\n",
       "                     ...   \n",
       "overall               int64\n",
       "Season               object\n",
       "Arial Saves         float64\n",
       "Duels %             float64\n",
       "Aerial battles %    float64\n",
       "Length: 61, dtype: object"
      ]
     },
     "execution_count": 26,
     "metadata": {},
     "output_type": "execute_result"
    }
   ],
   "source": [
    "data.dtypes"
   ]
  },
  {
   "cell_type": "code",
   "execution_count": 27,
   "metadata": {},
   "outputs": [
    {
     "data": {
      "text/plain": [
       "[('Clean sheets', 1007),\n",
       " ('Goals conceded', 1007),\n",
       " ('Tackles', 183),\n",
       " ('Last man tackles', 1190),\n",
       " ('Blocked shots', 183),\n",
       " ('Interceptions', 183),\n",
       " ('Clearances', 183),\n",
       " ('Headed Clearance', 183),\n",
       " ('Clearances off line', 1190),\n",
       " ('Recoveries', 521),\n",
       " ('Successful 50/50s', 521),\n",
       " ('Own goals', 1007),\n",
       " ('Errors leading to goal', 338),\n",
       " ('Big chances created', 183),\n",
       " ('Crosses', 183),\n",
       " ('Through balls', 521),\n",
       " ('Accurate long balls', 338),\n",
       " ('Offsides', 183),\n",
       " ('Headed goals', 183),\n",
       " ('Goals with right foot', 183),\n",
       " ('Goals with left foot', 183),\n",
       " ('Hit woodwork', 183),\n",
       " ('Goals per match', 786),\n",
       " ('Penalties scored', 786),\n",
       " ('Freekicks scored', 786),\n",
       " ('Shots', 786),\n",
       " ('Shots on target', 786),\n",
       " ('Big chances missed', 786),\n",
       " ('Saves', 1610),\n",
       " ('Penalties saved', 1610),\n",
       " ('Sweeper clearances', 1610),\n",
       " ('Throw outs', 1610),\n",
       " ('Goal Kicks', 1610)]"
      ]
     },
     "execution_count": 27,
     "metadata": {},
     "output_type": "execute_result"
    }
   ],
   "source": [
    "missing_3 = [ (i, data[i].isnull().sum()) for i in data.columns if data[i].isnull().sum() > 0]\n",
    "missing_3"
   ]
  },
  {
   "cell_type": "markdown",
   "metadata": {},
   "source": [
    "#### Dropping Shots on target becasue we already have shots and shooting accuracy"
   ]
  },
  {
   "cell_type": "code",
   "execution_count": 28,
   "metadata": {},
   "outputs": [],
   "source": [
    "cols_to_drop.append('Shots on target')\n"
   ]
  },
  {
   "cell_type": "code",
   "execution_count": 29,
   "metadata": {},
   "outputs": [
    {
     "data": {
      "text/plain": [
       "['Punches',\n",
       " 'High Claims',\n",
       " 'Catches',\n",
       " 'Sweeper clearances',\n",
       " 'Throw outs',\n",
       " 'Goal Kicks',\n",
       " 'Duels lost',\n",
       " 'Duels won',\n",
       " 'Aerial battles won',\n",
       " 'Aerial battles lost',\n",
       " 'Penalties scored',\n",
       " 'Freekicks scored',\n",
       " 'Shots on target']"
      ]
     },
     "execution_count": 29,
     "metadata": {},
     "output_type": "execute_result"
    }
   ],
   "source": [
    "cols_to_drop"
   ]
  },
  {
   "cell_type": "code",
   "execution_count": 30,
   "metadata": {},
   "outputs": [],
   "source": [
    "data_eda = data.fillna(0)\n",
    "data_eda['Passes'] = data_eda['Passes'].apply(lambda x: \"\".join(x.split(\",\")) if \",\" in x else x)\n",
    "data_eda['Passes'] = data_eda['Passes'].astype('int64')\n",
    "data_eda.drop(cols_to_drop, axis = 1, inplace = True)"
   ]
  },
  {
   "cell_type": "code",
   "execution_count": 31,
   "metadata": {},
   "outputs": [
    {
     "data": {
      "text/plain": [
       "(1793, 48)"
      ]
     },
     "execution_count": 31,
     "metadata": {},
     "output_type": "execute_result"
    }
   ],
   "source": [
    "data_eda.shape"
   ]
  },
  {
   "cell_type": "code",
   "execution_count": 32,
   "metadata": {},
   "outputs": [
    {
     "data": {
      "text/plain": [
       "Index(['Position', 'Appearances', 'Clean sheets', 'Goals conceded', 'Tackles',\n",
       "       'Tackle success %', 'Last man tackles', 'Blocked shots',\n",
       "       'Interceptions', 'Clearances', 'Headed Clearance',\n",
       "       'Clearances off line', 'Recoveries', 'Successful 50/50s', 'Own goals',\n",
       "       'Errors leading to goal', 'Assists', 'Passes', 'Passes per match',\n",
       "       'Big chances created', 'Crosses', 'Cross accuracy %', 'Through balls',\n",
       "       'Accurate long balls', 'Yellow cards', 'Red cards', 'Fouls', 'Offsides',\n",
       "       'Goals', 'Headed goals', 'Goals with right foot',\n",
       "       'Goals with left foot', 'Hit woodwork', 'Goals per match', 'Shots',\n",
       "       'Shooting accuracy %', 'Big chances missed', 'Saves', 'Penalties saved',\n",
       "       'mod name', 'age', 'nationality', 'value_eur', 'overall', 'Season',\n",
       "       'Arial Saves', 'Duels %', 'Aerial battles %'],\n",
       "      dtype='object')"
      ]
     },
     "execution_count": 32,
     "metadata": {},
     "output_type": "execute_result"
    }
   ],
   "source": [
    "data_eda.columns"
   ]
  },
  {
   "cell_type": "code",
   "execution_count": 33,
   "metadata": {},
   "outputs": [
    {
     "ename": "PermissionError",
     "evalue": "[Errno 13] Permission denied: 'EDA_data.csv'",
     "output_type": "error",
     "traceback": [
      "\u001b[1;31m---------------------------------------------------------------------------\u001b[0m",
      "\u001b[1;31mPermissionError\u001b[0m                           Traceback (most recent call last)",
      "\u001b[1;32m<ipython-input-33-0f5d48e9f45e>\u001b[0m in \u001b[0;36m<module>\u001b[1;34m\u001b[0m\n\u001b[1;32m----> 1\u001b[1;33m \u001b[0mdata_eda\u001b[0m\u001b[1;33m.\u001b[0m\u001b[0mto_csv\u001b[0m\u001b[1;33m(\u001b[0m\u001b[1;34m'EDA_data.csv'\u001b[0m\u001b[1;33m,\u001b[0m\u001b[0mindex\u001b[0m\u001b[1;33m=\u001b[0m\u001b[1;32mFalse\u001b[0m\u001b[1;33m)\u001b[0m\u001b[1;33m\u001b[0m\u001b[1;33m\u001b[0m\u001b[0m\n\u001b[0m",
      "\u001b[1;32mD:\\Misc_softwares\\Anaconda\\lib\\site-packages\\pandas\\core\\generic.py\u001b[0m in \u001b[0;36mto_csv\u001b[1;34m(self, path_or_buf, sep, na_rep, float_format, columns, header, index, index_label, mode, encoding, compression, quoting, quotechar, line_terminator, chunksize, date_format, doublequote, escapechar, decimal, errors)\u001b[0m\n\u001b[0;32m   3168\u001b[0m             \u001b[0mdecimal\u001b[0m\u001b[1;33m=\u001b[0m\u001b[0mdecimal\u001b[0m\u001b[1;33m,\u001b[0m\u001b[1;33m\u001b[0m\u001b[1;33m\u001b[0m\u001b[0m\n\u001b[0;32m   3169\u001b[0m         )\n\u001b[1;32m-> 3170\u001b[1;33m         \u001b[0mformatter\u001b[0m\u001b[1;33m.\u001b[0m\u001b[0msave\u001b[0m\u001b[1;33m(\u001b[0m\u001b[1;33m)\u001b[0m\u001b[1;33m\u001b[0m\u001b[1;33m\u001b[0m\u001b[0m\n\u001b[0m\u001b[0;32m   3171\u001b[0m \u001b[1;33m\u001b[0m\u001b[0m\n\u001b[0;32m   3172\u001b[0m         \u001b[1;32mif\u001b[0m \u001b[0mpath_or_buf\u001b[0m \u001b[1;32mis\u001b[0m \u001b[1;32mNone\u001b[0m\u001b[1;33m:\u001b[0m\u001b[1;33m\u001b[0m\u001b[1;33m\u001b[0m\u001b[0m\n",
      "\u001b[1;32mD:\\Misc_softwares\\Anaconda\\lib\\site-packages\\pandas\\io\\formats\\csvs.py\u001b[0m in \u001b[0;36msave\u001b[1;34m(self)\u001b[0m\n\u001b[0;32m    188\u001b[0m                 \u001b[0mencoding\u001b[0m\u001b[1;33m=\u001b[0m\u001b[0mself\u001b[0m\u001b[1;33m.\u001b[0m\u001b[0mencoding\u001b[0m\u001b[1;33m,\u001b[0m\u001b[1;33m\u001b[0m\u001b[1;33m\u001b[0m\u001b[0m\n\u001b[0;32m    189\u001b[0m                 \u001b[0merrors\u001b[0m\u001b[1;33m=\u001b[0m\u001b[0mself\u001b[0m\u001b[1;33m.\u001b[0m\u001b[0merrors\u001b[0m\u001b[1;33m,\u001b[0m\u001b[1;33m\u001b[0m\u001b[1;33m\u001b[0m\u001b[0m\n\u001b[1;32m--> 190\u001b[1;33m                 \u001b[0mcompression\u001b[0m\u001b[1;33m=\u001b[0m\u001b[0mdict\u001b[0m\u001b[1;33m(\u001b[0m\u001b[0mself\u001b[0m\u001b[1;33m.\u001b[0m\u001b[0mcompression_args\u001b[0m\u001b[1;33m,\u001b[0m \u001b[0mmethod\u001b[0m\u001b[1;33m=\u001b[0m\u001b[0mself\u001b[0m\u001b[1;33m.\u001b[0m\u001b[0mcompression\u001b[0m\u001b[1;33m)\u001b[0m\u001b[1;33m,\u001b[0m\u001b[1;33m\u001b[0m\u001b[1;33m\u001b[0m\u001b[0m\n\u001b[0m\u001b[0;32m    191\u001b[0m             )\n\u001b[0;32m    192\u001b[0m             \u001b[0mclose\u001b[0m \u001b[1;33m=\u001b[0m \u001b[1;32mTrue\u001b[0m\u001b[1;33m\u001b[0m\u001b[1;33m\u001b[0m\u001b[0m\n",
      "\u001b[1;32mD:\\Misc_softwares\\Anaconda\\lib\\site-packages\\pandas\\io\\common.py\u001b[0m in \u001b[0;36mget_handle\u001b[1;34m(path_or_buf, mode, encoding, compression, memory_map, is_text, errors)\u001b[0m\n\u001b[0;32m    491\u001b[0m         \u001b[1;32mif\u001b[0m \u001b[0mencoding\u001b[0m\u001b[1;33m:\u001b[0m\u001b[1;33m\u001b[0m\u001b[1;33m\u001b[0m\u001b[0m\n\u001b[0;32m    492\u001b[0m             \u001b[1;31m# Encoding\u001b[0m\u001b[1;33m\u001b[0m\u001b[1;33m\u001b[0m\u001b[1;33m\u001b[0m\u001b[0m\n\u001b[1;32m--> 493\u001b[1;33m             \u001b[0mf\u001b[0m \u001b[1;33m=\u001b[0m \u001b[0mopen\u001b[0m\u001b[1;33m(\u001b[0m\u001b[0mpath_or_buf\u001b[0m\u001b[1;33m,\u001b[0m \u001b[0mmode\u001b[0m\u001b[1;33m,\u001b[0m \u001b[0mencoding\u001b[0m\u001b[1;33m=\u001b[0m\u001b[0mencoding\u001b[0m\u001b[1;33m,\u001b[0m \u001b[0merrors\u001b[0m\u001b[1;33m=\u001b[0m\u001b[0merrors\u001b[0m\u001b[1;33m,\u001b[0m \u001b[0mnewline\u001b[0m\u001b[1;33m=\u001b[0m\u001b[1;34m\"\"\u001b[0m\u001b[1;33m)\u001b[0m\u001b[1;33m\u001b[0m\u001b[1;33m\u001b[0m\u001b[0m\n\u001b[0m\u001b[0;32m    494\u001b[0m         \u001b[1;32melif\u001b[0m \u001b[0mis_text\u001b[0m\u001b[1;33m:\u001b[0m\u001b[1;33m\u001b[0m\u001b[1;33m\u001b[0m\u001b[0m\n\u001b[0;32m    495\u001b[0m             \u001b[1;31m# No explicit encoding\u001b[0m\u001b[1;33m\u001b[0m\u001b[1;33m\u001b[0m\u001b[1;33m\u001b[0m\u001b[0m\n",
      "\u001b[1;31mPermissionError\u001b[0m: [Errno 13] Permission denied: 'EDA_data.csv'"
     ]
    }
   ],
   "source": [
    "data_eda.to_csv('EDA_data.csv',index=False)"
   ]
  },
  {
   "cell_type": "code",
   "execution_count": 34,
   "metadata": {},
   "outputs": [],
   "source": [
    "data_model = data_eda.drop(['Season','Appearances', 'Headed goals', 'Goals with right foot',\n",
    "                            'Goals with left foot', 'Hit woodwork', 'Last man tackles','Big chances missed',\n",
    "                            'Errors leading to goal', 'nationality', 'mod name'], axis = 1)"
   ]
  },
  {
   "cell_type": "code",
   "execution_count": 35,
   "metadata": {},
   "outputs": [
    {
     "data": {
      "text/plain": [
       "(1793, 37)"
      ]
     },
     "execution_count": 35,
     "metadata": {},
     "output_type": "execute_result"
    }
   ],
   "source": [
    "data_model.shape"
   ]
  },
  {
   "cell_type": "code",
   "execution_count": 36,
   "metadata": {},
   "outputs": [],
   "source": [
    "data_model['Clearances'] = data_model['Clearances'] + data_model['Headed Clearance'] + data_model['Clearances off line'] \n",
    "data_model.drop(['Headed Clearance',\n",
    "       'Clearances off line'], axis = 1, inplace = True)\n",
    "       "
   ]
  },
  {
   "cell_type": "code",
   "execution_count": 37,
   "metadata": {},
   "outputs": [
    {
     "data": {
      "text/plain": [
       "(1793, 35)"
      ]
     },
     "execution_count": 37,
     "metadata": {},
     "output_type": "execute_result"
    }
   ],
   "source": [
    "data_model.shape"
   ]
  },
  {
   "cell_type": "code",
   "execution_count": 38,
   "metadata": {},
   "outputs": [
    {
     "data": {
      "text/plain": [
       "Position                object\n",
       "Clean sheets           float64\n",
       "Goals conceded         float64\n",
       "Tackles                float64\n",
       "Tackle success %         int64\n",
       "Blocked shots          float64\n",
       "Interceptions          float64\n",
       "Clearances             float64\n",
       "Recoveries             float64\n",
       "Successful 50/50s      float64\n",
       "Own goals              float64\n",
       "Assists                  int64\n",
       "Passes                   int64\n",
       "Passes per match       float64\n",
       "Big chances created    float64\n",
       "Crosses                float64\n",
       "Cross accuracy %         int64\n",
       "Through balls          float64\n",
       "Accurate long balls    float64\n",
       "Yellow cards             int64\n",
       "Red cards                int64\n",
       "Fouls                    int64\n",
       "Offsides               float64\n",
       "Goals                    int64\n",
       "Goals per match        float64\n",
       "Shots                  float64\n",
       "Shooting accuracy %      int64\n",
       "Saves                  float64\n",
       "Penalties saved        float64\n",
       "age                      int64\n",
       "value_eur                int64\n",
       "overall                  int64\n",
       "Arial Saves            float64\n",
       "Duels %                float64\n",
       "Aerial battles %       float64\n",
       "dtype: object"
      ]
     },
     "execution_count": 38,
     "metadata": {},
     "output_type": "execute_result"
    }
   ],
   "source": [
    "data_model.dtypes"
   ]
  },
  {
   "cell_type": "code",
   "execution_count": 39,
   "metadata": {},
   "outputs": [],
   "source": [
    "data_model.to_csv(\"pos_modelling_data.csv\", index=False)"
   ]
  },
  {
   "cell_type": "code",
   "execution_count": 125,
   "metadata": {},
   "outputs": [],
   "source": [
    "data_model_dummies = pd.get_dummies(data_model)"
   ]
  },
  {
   "cell_type": "code",
   "execution_count": 126,
   "metadata": {},
   "outputs": [
    {
     "data": {
      "text/plain": [
       "Index(['Clean sheets', 'Goals conceded', 'Tackles', 'Tackle success %',\n",
       "       'Blocked shots', 'Interceptions', 'Clearances', 'Recoveries',\n",
       "       'Successful 50/50s', 'Own goals', 'Assists', 'Passes',\n",
       "       'Passes per match', 'Big chances created', 'Crosses',\n",
       "       'Cross accuracy %', 'Through balls', 'Accurate long balls',\n",
       "       'Yellow cards', 'Red cards', 'Fouls', 'Offsides', 'Goals',\n",
       "       'Goals per match', 'Shots', 'Shooting accuracy %', 'Saves',\n",
       "       'Penalties saved', 'age', 'value_eur', 'overall', 'Arial Saves',\n",
       "       'Duels %', 'Aerial battles %', 'Position_Defender', 'Position_Forward',\n",
       "       'Position_Goalkeeper', 'Position_Midfielder'],\n",
       "      dtype='object')"
      ]
     },
     "execution_count": 126,
     "metadata": {},
     "output_type": "execute_result"
    }
   ],
   "source": [
    "data_model_dummies.columns"
   ]
  },
  {
   "cell_type": "code",
   "execution_count": 127,
   "metadata": {},
   "outputs": [
    {
     "data": {
      "text/plain": [
       "Clean sheets           float64\n",
       "Goals conceded         float64\n",
       "Tackles                float64\n",
       "Tackle success %         int64\n",
       "Blocked shots          float64\n",
       "Interceptions          float64\n",
       "Clearances             float64\n",
       "Recoveries             float64\n",
       "Successful 50/50s      float64\n",
       "Own goals              float64\n",
       "Assists                  int64\n",
       "Passes                   int64\n",
       "Passes per match       float64\n",
       "Big chances created    float64\n",
       "Crosses                float64\n",
       "Cross accuracy %         int64\n",
       "Through balls          float64\n",
       "Accurate long balls    float64\n",
       "Yellow cards             int64\n",
       "Red cards                int64\n",
       "Fouls                    int64\n",
       "Offsides               float64\n",
       "Goals                    int64\n",
       "Goals per match        float64\n",
       "Shots                  float64\n",
       "Shooting accuracy %      int64\n",
       "Saves                  float64\n",
       "Penalties saved        float64\n",
       "age                      int64\n",
       "value_eur                int64\n",
       "overall                  int64\n",
       "Arial Saves            float64\n",
       "Duels %                float64\n",
       "Aerial battles %       float64\n",
       "Position_Defender        uint8\n",
       "Position_Forward         uint8\n",
       "Position_Goalkeeper      uint8\n",
       "Position_Midfielder      uint8\n",
       "dtype: object"
      ]
     },
     "execution_count": 127,
     "metadata": {},
     "output_type": "execute_result"
    }
   ],
   "source": [
    "data_model_dummies.dtypes"
   ]
  },
  {
   "cell_type": "code",
   "execution_count": 128,
   "metadata": {},
   "outputs": [],
   "source": [
    "data_model_dummies.to_csv(\"modelling_data.csv\", index=False)"
   ]
  },
  {
   "cell_type": "code",
   "execution_count": 129,
   "metadata": {},
   "outputs": [],
   "source": [
    "import plotly"
   ]
  },
  {
   "cell_type": "markdown",
   "metadata": {},
   "source": [
    "Hritvik-\n",
    "Top 5 Goal Scorers\n",
    "Most Passes per Game\n",
    "Players with the best Tackle Success \n",
    "Which Countries have the highest rated players\n",
    "\n",
    "Nayana-\n",
    "5 Players with most Assists\n",
    "Players with the best Shooting accuracy\n",
    "Highest Paid Players\n",
    "Which Countries have the players with highest market value\n",
    "\n",
    "Meh-\n",
    "Top 5 Goal Keepers\n",
    "Age vs Value plot or Highest Valued players under 25 and over 25\n",
    "Age vs Rating plot or Highest Rated players under 25 and over 25"
   ]
  }
 ],
 "metadata": {
  "kernelspec": {
   "display_name": "Python 3",
   "language": "python",
   "name": "python3"
  },
  "language_info": {
   "codemirror_mode": {
    "name": "ipython",
    "version": 3
   },
   "file_extension": ".py",
   "mimetype": "text/x-python",
   "name": "python",
   "nbconvert_exporter": "python",
   "pygments_lexer": "ipython3",
   "version": "3.7.4"
  }
 },
 "nbformat": 4,
 "nbformat_minor": 4
}
